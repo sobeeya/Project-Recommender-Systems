{
 "cells": [
  {
   "cell_type": "code",
   "execution_count": 1,
   "id": "393089d0",
   "metadata": {},
   "outputs": [],
   "source": [
    "import numpy as np\n",
    "import pandas as pd\n",
    "import numpy as np\n",
    "import pandas as pd\n",
    "import matplotlib.pyplot as plt\n",
    "import seaborn as sns\n",
    "import os\n",
    "import warnings\n",
    "warnings.filterwarnings('ignore')"
   ]
  },
  {
   "cell_type": "code",
   "execution_count": 2,
   "id": "96e49a21",
   "metadata": {},
   "outputs": [],
   "source": [
    "Books = pd.read_csv('C:/Users/USER/Desktop/Live Project 3/Dataset/Books.csv')\n",
    "Rating = pd.read_csv('C:/Users/USER/Desktop/Live Project 3/Dataset/Ratings.csv')\n",
    "User = pd.read_csv('C:/Users/USER/Desktop/Live Project 3/Dataset/Users.csv')"
   ]
  },
  {
   "cell_type": "markdown",
   "id": "c0010314",
   "metadata": {},
   "source": [
    "# Data Preprocessing"
   ]
  },
  {
   "cell_type": "markdown",
   "id": "3d22ccef",
   "metadata": {},
   "source": [
    "# Checking Books Data"
   ]
  },
  {
   "cell_type": "code",
   "execution_count": 3,
   "id": "bc54b226",
   "metadata": {},
   "outputs": [
    {
     "data": {
      "text/html": [
       "<div>\n",
       "<style scoped>\n",
       "    .dataframe tbody tr th:only-of-type {\n",
       "        vertical-align: middle;\n",
       "    }\n",
       "\n",
       "    .dataframe tbody tr th {\n",
       "        vertical-align: top;\n",
       "    }\n",
       "\n",
       "    .dataframe thead th {\n",
       "        text-align: right;\n",
       "    }\n",
       "</style>\n",
       "<table border=\"1\" class=\"dataframe\">\n",
       "  <thead>\n",
       "    <tr style=\"text-align: right;\">\n",
       "      <th></th>\n",
       "      <th>ISBN</th>\n",
       "      <th>Book-Title</th>\n",
       "      <th>Book-Author</th>\n",
       "      <th>Year-Of-Publication</th>\n",
       "      <th>Publisher</th>\n",
       "      <th>Image-URL-S</th>\n",
       "      <th>Image-URL-M</th>\n",
       "      <th>Image-URL-L</th>\n",
       "    </tr>\n",
       "  </thead>\n",
       "  <tbody>\n",
       "    <tr>\n",
       "      <th>0</th>\n",
       "      <td>0195153448</td>\n",
       "      <td>Classical Mythology</td>\n",
       "      <td>Mark P. O. Morford</td>\n",
       "      <td>2002</td>\n",
       "      <td>Oxford University Press</td>\n",
       "      <td>http://images.amazon.com/images/P/0195153448.0...</td>\n",
       "      <td>http://images.amazon.com/images/P/0195153448.0...</td>\n",
       "      <td>http://images.amazon.com/images/P/0195153448.0...</td>\n",
       "    </tr>\n",
       "    <tr>\n",
       "      <th>1</th>\n",
       "      <td>0002005018</td>\n",
       "      <td>Clara Callan</td>\n",
       "      <td>Richard Bruce Wright</td>\n",
       "      <td>2001</td>\n",
       "      <td>HarperFlamingo Canada</td>\n",
       "      <td>http://images.amazon.com/images/P/0002005018.0...</td>\n",
       "      <td>http://images.amazon.com/images/P/0002005018.0...</td>\n",
       "      <td>http://images.amazon.com/images/P/0002005018.0...</td>\n",
       "    </tr>\n",
       "    <tr>\n",
       "      <th>2</th>\n",
       "      <td>0060973129</td>\n",
       "      <td>Decision in Normandy</td>\n",
       "      <td>Carlo D'Este</td>\n",
       "      <td>1991</td>\n",
       "      <td>HarperPerennial</td>\n",
       "      <td>http://images.amazon.com/images/P/0060973129.0...</td>\n",
       "      <td>http://images.amazon.com/images/P/0060973129.0...</td>\n",
       "      <td>http://images.amazon.com/images/P/0060973129.0...</td>\n",
       "    </tr>\n",
       "    <tr>\n",
       "      <th>3</th>\n",
       "      <td>0374157065</td>\n",
       "      <td>Flu: The Story of the Great Influenza Pandemic...</td>\n",
       "      <td>Gina Bari Kolata</td>\n",
       "      <td>1999</td>\n",
       "      <td>Farrar Straus Giroux</td>\n",
       "      <td>http://images.amazon.com/images/P/0374157065.0...</td>\n",
       "      <td>http://images.amazon.com/images/P/0374157065.0...</td>\n",
       "      <td>http://images.amazon.com/images/P/0374157065.0...</td>\n",
       "    </tr>\n",
       "    <tr>\n",
       "      <th>4</th>\n",
       "      <td>0393045218</td>\n",
       "      <td>The Mummies of Urumchi</td>\n",
       "      <td>E. J. W. Barber</td>\n",
       "      <td>1999</td>\n",
       "      <td>W. W. Norton &amp;amp; Company</td>\n",
       "      <td>http://images.amazon.com/images/P/0393045218.0...</td>\n",
       "      <td>http://images.amazon.com/images/P/0393045218.0...</td>\n",
       "      <td>http://images.amazon.com/images/P/0393045218.0...</td>\n",
       "    </tr>\n",
       "  </tbody>\n",
       "</table>\n",
       "</div>"
      ],
      "text/plain": [
       "         ISBN                                         Book-Title  \\\n",
       "0  0195153448                                Classical Mythology   \n",
       "1  0002005018                                       Clara Callan   \n",
       "2  0060973129                               Decision in Normandy   \n",
       "3  0374157065  Flu: The Story of the Great Influenza Pandemic...   \n",
       "4  0393045218                             The Mummies of Urumchi   \n",
       "\n",
       "            Book-Author Year-Of-Publication                   Publisher  \\\n",
       "0    Mark P. O. Morford                2002     Oxford University Press   \n",
       "1  Richard Bruce Wright                2001       HarperFlamingo Canada   \n",
       "2          Carlo D'Este                1991             HarperPerennial   \n",
       "3      Gina Bari Kolata                1999        Farrar Straus Giroux   \n",
       "4       E. J. W. Barber                1999  W. W. Norton &amp; Company   \n",
       "\n",
       "                                         Image-URL-S  \\\n",
       "0  http://images.amazon.com/images/P/0195153448.0...   \n",
       "1  http://images.amazon.com/images/P/0002005018.0...   \n",
       "2  http://images.amazon.com/images/P/0060973129.0...   \n",
       "3  http://images.amazon.com/images/P/0374157065.0...   \n",
       "4  http://images.amazon.com/images/P/0393045218.0...   \n",
       "\n",
       "                                         Image-URL-M  \\\n",
       "0  http://images.amazon.com/images/P/0195153448.0...   \n",
       "1  http://images.amazon.com/images/P/0002005018.0...   \n",
       "2  http://images.amazon.com/images/P/0060973129.0...   \n",
       "3  http://images.amazon.com/images/P/0374157065.0...   \n",
       "4  http://images.amazon.com/images/P/0393045218.0...   \n",
       "\n",
       "                                         Image-URL-L  \n",
       "0  http://images.amazon.com/images/P/0195153448.0...  \n",
       "1  http://images.amazon.com/images/P/0002005018.0...  \n",
       "2  http://images.amazon.com/images/P/0060973129.0...  \n",
       "3  http://images.amazon.com/images/P/0374157065.0...  \n",
       "4  http://images.amazon.com/images/P/0393045218.0...  "
      ]
     },
     "execution_count": 3,
     "metadata": {},
     "output_type": "execute_result"
    }
   ],
   "source": [
    "Books.head()"
   ]
  },
  {
   "cell_type": "code",
   "execution_count": 4,
   "id": "9fade6fd",
   "metadata": {},
   "outputs": [
    {
     "name": "stdout",
     "output_type": "stream",
     "text": [
      "Columns:  ['ISBN', 'Book-Title', 'Book-Author', 'Year-Of-Publication', 'Publisher', 'Image-URL-S', 'Image-URL-M', 'Image-URL-L']\n"
     ]
    }
   ],
   "source": [
    "print(\"Columns: \", list(Books.columns))"
   ]
  },
  {
   "cell_type": "code",
   "execution_count": 5,
   "id": "cfb6f1cf",
   "metadata": {},
   "outputs": [
    {
     "data": {
      "text/html": [
       "<div>\n",
       "<style scoped>\n",
       "    .dataframe tbody tr th:only-of-type {\n",
       "        vertical-align: middle;\n",
       "    }\n",
       "\n",
       "    .dataframe tbody tr th {\n",
       "        vertical-align: top;\n",
       "    }\n",
       "\n",
       "    .dataframe thead th {\n",
       "        text-align: right;\n",
       "    }\n",
       "</style>\n",
       "<table border=\"1\" class=\"dataframe\">\n",
       "  <thead>\n",
       "    <tr style=\"text-align: right;\">\n",
       "      <th></th>\n",
       "      <th>ISBN</th>\n",
       "      <th>Book-Title</th>\n",
       "      <th>Book-Author</th>\n",
       "      <th>Year-Of-Publication</th>\n",
       "      <th>Publisher</th>\n",
       "      <th>Image-URL-S</th>\n",
       "      <th>Image-URL-M</th>\n",
       "      <th>Image-URL-L</th>\n",
       "    </tr>\n",
       "  </thead>\n",
       "  <tbody>\n",
       "    <tr>\n",
       "      <th>count</th>\n",
       "      <td>271360</td>\n",
       "      <td>271360</td>\n",
       "      <td>271359</td>\n",
       "      <td>271360</td>\n",
       "      <td>271358</td>\n",
       "      <td>271360</td>\n",
       "      <td>271360</td>\n",
       "      <td>271357</td>\n",
       "    </tr>\n",
       "    <tr>\n",
       "      <th>unique</th>\n",
       "      <td>271360</td>\n",
       "      <td>242135</td>\n",
       "      <td>102023</td>\n",
       "      <td>202</td>\n",
       "      <td>16807</td>\n",
       "      <td>271044</td>\n",
       "      <td>271044</td>\n",
       "      <td>271041</td>\n",
       "    </tr>\n",
       "    <tr>\n",
       "      <th>top</th>\n",
       "      <td>0195153448</td>\n",
       "      <td>Selected Poems</td>\n",
       "      <td>Agatha Christie</td>\n",
       "      <td>2002</td>\n",
       "      <td>Harlequin</td>\n",
       "      <td>http://images.amazon.com/images/P/185326119X.0...</td>\n",
       "      <td>http://images.amazon.com/images/P/185326119X.0...</td>\n",
       "      <td>http://images.amazon.com/images/P/225307649X.0...</td>\n",
       "    </tr>\n",
       "    <tr>\n",
       "      <th>freq</th>\n",
       "      <td>1</td>\n",
       "      <td>27</td>\n",
       "      <td>632</td>\n",
       "      <td>13903</td>\n",
       "      <td>7535</td>\n",
       "      <td>2</td>\n",
       "      <td>2</td>\n",
       "      <td>2</td>\n",
       "    </tr>\n",
       "  </tbody>\n",
       "</table>\n",
       "</div>"
      ],
      "text/plain": [
       "              ISBN      Book-Title      Book-Author  Year-Of-Publication  \\\n",
       "count       271360          271360           271359               271360   \n",
       "unique      271360          242135           102023                  202   \n",
       "top     0195153448  Selected Poems  Agatha Christie                 2002   \n",
       "freq             1              27              632                13903   \n",
       "\n",
       "        Publisher                                        Image-URL-S  \\\n",
       "count      271358                                             271360   \n",
       "unique      16807                                             271044   \n",
       "top     Harlequin  http://images.amazon.com/images/P/185326119X.0...   \n",
       "freq         7535                                                  2   \n",
       "\n",
       "                                              Image-URL-M  \\\n",
       "count                                              271360   \n",
       "unique                                             271044   \n",
       "top     http://images.amazon.com/images/P/185326119X.0...   \n",
       "freq                                                    2   \n",
       "\n",
       "                                              Image-URL-L  \n",
       "count                                              271357  \n",
       "unique                                             271041  \n",
       "top     http://images.amazon.com/images/P/225307649X.0...  \n",
       "freq                                                    2  "
      ]
     },
     "execution_count": 5,
     "metadata": {},
     "output_type": "execute_result"
    }
   ],
   "source": [
    "Books.describe()"
   ]
  },
  {
   "cell_type": "code",
   "execution_count": 6,
   "id": "fe782b71",
   "metadata": {},
   "outputs": [],
   "source": [
    "Books.rename(columns = {'Year-Of-Publication':'YearOfPublication'}, inplace = True)"
   ]
  },
  {
   "cell_type": "code",
   "execution_count": 7,
   "id": "415634bb",
   "metadata": {},
   "outputs": [
    {
     "data": {
      "text/plain": [
       "ISBN                 object\n",
       "Book-Title           object\n",
       "Book-Author          object\n",
       "YearOfPublication    object\n",
       "Publisher            object\n",
       "Image-URL-S          object\n",
       "Image-URL-M          object\n",
       "Image-URL-L          object\n",
       "dtype: object"
      ]
     },
     "execution_count": 7,
     "metadata": {},
     "output_type": "execute_result"
    }
   ],
   "source": [
    "Books.dtypes"
   ]
  },
  {
   "cell_type": "code",
   "execution_count": 8,
   "id": "478325e0",
   "metadata": {},
   "outputs": [
    {
     "data": {
      "text/plain": [
       "ISBN                 0\n",
       "Book-Title           0\n",
       "Book-Author          1\n",
       "YearOfPublication    0\n",
       "Publisher            2\n",
       "Image-URL-S          0\n",
       "Image-URL-M          0\n",
       "Image-URL-L          3\n",
       "dtype: int64"
      ]
     },
     "execution_count": 8,
     "metadata": {},
     "output_type": "execute_result"
    }
   ],
   "source": [
    "Books.isnull().sum()"
   ]
  },
  {
   "cell_type": "code",
   "execution_count": 9,
   "id": "b1880283",
   "metadata": {},
   "outputs": [
    {
     "data": {
      "text/html": [
       "<div>\n",
       "<style scoped>\n",
       "    .dataframe tbody tr th:only-of-type {\n",
       "        vertical-align: middle;\n",
       "    }\n",
       "\n",
       "    .dataframe tbody tr th {\n",
       "        vertical-align: top;\n",
       "    }\n",
       "\n",
       "    .dataframe thead th {\n",
       "        text-align: right;\n",
       "    }\n",
       "</style>\n",
       "<table border=\"1\" class=\"dataframe\">\n",
       "  <thead>\n",
       "    <tr style=\"text-align: right;\">\n",
       "      <th></th>\n",
       "      <th>ISBN</th>\n",
       "      <th>Book-Title</th>\n",
       "      <th>Book-Author</th>\n",
       "      <th>YearOfPublication</th>\n",
       "      <th>Publisher</th>\n",
       "    </tr>\n",
       "  </thead>\n",
       "  <tbody>\n",
       "    <tr>\n",
       "      <th>0</th>\n",
       "      <td>0195153448</td>\n",
       "      <td>Classical Mythology</td>\n",
       "      <td>Mark P. O. Morford</td>\n",
       "      <td>2002</td>\n",
       "      <td>Oxford University Press</td>\n",
       "    </tr>\n",
       "    <tr>\n",
       "      <th>1</th>\n",
       "      <td>0002005018</td>\n",
       "      <td>Clara Callan</td>\n",
       "      <td>Richard Bruce Wright</td>\n",
       "      <td>2001</td>\n",
       "      <td>HarperFlamingo Canada</td>\n",
       "    </tr>\n",
       "    <tr>\n",
       "      <th>2</th>\n",
       "      <td>0060973129</td>\n",
       "      <td>Decision in Normandy</td>\n",
       "      <td>Carlo D'Este</td>\n",
       "      <td>1991</td>\n",
       "      <td>HarperPerennial</td>\n",
       "    </tr>\n",
       "    <tr>\n",
       "      <th>3</th>\n",
       "      <td>0374157065</td>\n",
       "      <td>Flu: The Story of the Great Influenza Pandemic...</td>\n",
       "      <td>Gina Bari Kolata</td>\n",
       "      <td>1999</td>\n",
       "      <td>Farrar Straus Giroux</td>\n",
       "    </tr>\n",
       "    <tr>\n",
       "      <th>4</th>\n",
       "      <td>0393045218</td>\n",
       "      <td>The Mummies of Urumchi</td>\n",
       "      <td>E. J. W. Barber</td>\n",
       "      <td>1999</td>\n",
       "      <td>W. W. Norton &amp;amp; Company</td>\n",
       "    </tr>\n",
       "  </tbody>\n",
       "</table>\n",
       "</div>"
      ],
      "text/plain": [
       "         ISBN                                         Book-Title  \\\n",
       "0  0195153448                                Classical Mythology   \n",
       "1  0002005018                                       Clara Callan   \n",
       "2  0060973129                               Decision in Normandy   \n",
       "3  0374157065  Flu: The Story of the Great Influenza Pandemic...   \n",
       "4  0393045218                             The Mummies of Urumchi   \n",
       "\n",
       "            Book-Author YearOfPublication                   Publisher  \n",
       "0    Mark P. O. Morford              2002     Oxford University Press  \n",
       "1  Richard Bruce Wright              2001       HarperFlamingo Canada  \n",
       "2          Carlo D'Este              1991             HarperPerennial  \n",
       "3      Gina Bari Kolata              1999        Farrar Straus Giroux  \n",
       "4       E. J. W. Barber              1999  W. W. Norton &amp; Company  "
      ]
     },
     "execution_count": 9,
     "metadata": {},
     "output_type": "execute_result"
    }
   ],
   "source": [
    "Books_URL = Books[['Image-URL-S', 'Image-URL-M', 'Image-URL-L']]\n",
    "Books = Books[['ISBN', 'Book-Title', 'Book-Author', 'YearOfPublication', 'Publisher']]\n",
    "Books.head()"
   ]
  },
  {
   "cell_type": "code",
   "execution_count": 10,
   "id": "bf206227",
   "metadata": {},
   "outputs": [
    {
     "data": {
      "text/html": [
       "<div>\n",
       "<style scoped>\n",
       "    .dataframe tbody tr th:only-of-type {\n",
       "        vertical-align: middle;\n",
       "    }\n",
       "\n",
       "    .dataframe tbody tr th {\n",
       "        vertical-align: top;\n",
       "    }\n",
       "\n",
       "    .dataframe thead th {\n",
       "        text-align: right;\n",
       "    }\n",
       "</style>\n",
       "<table border=\"1\" class=\"dataframe\">\n",
       "  <thead>\n",
       "    <tr style=\"text-align: right;\">\n",
       "      <th></th>\n",
       "      <th>ISBN</th>\n",
       "      <th>Book-Title</th>\n",
       "      <th>Book-Author</th>\n",
       "      <th>YearOfPublication</th>\n",
       "      <th>Publisher</th>\n",
       "    </tr>\n",
       "  </thead>\n",
       "  <tbody>\n",
       "    <tr>\n",
       "      <th>187689</th>\n",
       "      <td>9627982032</td>\n",
       "      <td>The Credit Suisse Guide to Managing Your Perso...</td>\n",
       "      <td>NaN</td>\n",
       "      <td>1995</td>\n",
       "      <td>Edinburgh Financial Publishing</td>\n",
       "    </tr>\n",
       "  </tbody>\n",
       "</table>\n",
       "</div>"
      ],
      "text/plain": [
       "              ISBN                                         Book-Title  \\\n",
       "187689  9627982032  The Credit Suisse Guide to Managing Your Perso...   \n",
       "\n",
       "       Book-Author YearOfPublication                       Publisher  \n",
       "187689         NaN              1995  Edinburgh Financial Publishing  "
      ]
     },
     "execution_count": 10,
     "metadata": {},
     "output_type": "execute_result"
    }
   ],
   "source": [
    "Books.loc[Books['Book-Author'].isnull(),:]"
   ]
  },
  {
   "cell_type": "code",
   "execution_count": 11,
   "id": "ff319e54",
   "metadata": {},
   "outputs": [
    {
     "data": {
      "text/html": [
       "<div>\n",
       "<style scoped>\n",
       "    .dataframe tbody tr th:only-of-type {\n",
       "        vertical-align: middle;\n",
       "    }\n",
       "\n",
       "    .dataframe tbody tr th {\n",
       "        vertical-align: top;\n",
       "    }\n",
       "\n",
       "    .dataframe thead th {\n",
       "        text-align: right;\n",
       "    }\n",
       "</style>\n",
       "<table border=\"1\" class=\"dataframe\">\n",
       "  <thead>\n",
       "    <tr style=\"text-align: right;\">\n",
       "      <th></th>\n",
       "      <th>ISBN</th>\n",
       "      <th>Book-Title</th>\n",
       "      <th>Book-Author</th>\n",
       "      <th>YearOfPublication</th>\n",
       "      <th>Publisher</th>\n",
       "    </tr>\n",
       "  </thead>\n",
       "  <tbody>\n",
       "    <tr>\n",
       "      <th>128890</th>\n",
       "      <td>193169656X</td>\n",
       "      <td>Tyrant Moon</td>\n",
       "      <td>Elaine Corvidae</td>\n",
       "      <td>2002</td>\n",
       "      <td>NaN</td>\n",
       "    </tr>\n",
       "    <tr>\n",
       "      <th>129037</th>\n",
       "      <td>1931696993</td>\n",
       "      <td>Finders Keepers</td>\n",
       "      <td>Linnea Sinclair</td>\n",
       "      <td>2001</td>\n",
       "      <td>NaN</td>\n",
       "    </tr>\n",
       "  </tbody>\n",
       "</table>\n",
       "</div>"
      ],
      "text/plain": [
       "              ISBN       Book-Title      Book-Author YearOfPublication  \\\n",
       "128890  193169656X      Tyrant Moon  Elaine Corvidae              2002   \n",
       "129037  1931696993  Finders Keepers  Linnea Sinclair              2001   \n",
       "\n",
       "       Publisher  \n",
       "128890       NaN  \n",
       "129037       NaN  "
      ]
     },
     "execution_count": 11,
     "metadata": {},
     "output_type": "execute_result"
    }
   ],
   "source": [
    "Books.loc[Books['Publisher'].isnull(),:]"
   ]
  },
  {
   "cell_type": "code",
   "execution_count": 12,
   "id": "1ff30ed2",
   "metadata": {},
   "outputs": [],
   "source": [
    "Books.at[187689 ,'Book-Author'] = 'Other'\n",
    "Books.at[128890 ,'Publisher'] = 'Other'\n",
    "Books.at[129037 ,'Publisher'] = 'Other'"
   ]
  },
  {
   "cell_type": "code",
   "execution_count": 13,
   "id": "2f8e0c28",
   "metadata": {},
   "outputs": [
    {
     "name": "stdout",
     "output_type": "stream",
     "text": [
      "<class 'pandas.core.frame.DataFrame'>\n",
      "RangeIndex: 271360 entries, 0 to 271359\n",
      "Data columns (total 5 columns):\n",
      " #   Column             Non-Null Count   Dtype \n",
      "---  ------             --------------   ----- \n",
      " 0   ISBN               271360 non-null  object\n",
      " 1   Book-Title         271360 non-null  object\n",
      " 2   Book-Author        271360 non-null  object\n",
      " 3   YearOfPublication  271360 non-null  object\n",
      " 4   Publisher          271360 non-null  object\n",
      "dtypes: object(5)\n",
      "memory usage: 10.4+ MB\n"
     ]
    }
   ],
   "source": [
    "Books.info()"
   ]
  },
  {
   "cell_type": "code",
   "execution_count": 14,
   "id": "867aa941",
   "metadata": {},
   "outputs": [
    {
     "name": "stdout",
     "output_type": "stream",
     "text": [
      "Duplicate entries: 0\n"
     ]
    }
   ],
   "source": [
    "print(f'Duplicate entries: {Books.duplicated().sum()}')"
   ]
  },
  {
   "cell_type": "code",
   "execution_count": 15,
   "id": "70343592",
   "metadata": {},
   "outputs": [
    {
     "data": {
      "text/plain": [
       "array([2002, 2001, 1991, 1999, 2000, 1993, 1996, 1988, 2004, 1998, 1994,\n",
       "       2003, 1997, 1983, 1979, 1995, 1982, 1985, 1992, 1986, 1978, 1980,\n",
       "       1952, 1987, 1990, 1981, 1989, 1984, 0, 1968, 1961, 1958, 1974,\n",
       "       1976, 1971, 1977, 1975, 1965, 1941, 1970, 1962, 1973, 1972, 1960,\n",
       "       1966, 1920, 1956, 1959, 1953, 1951, 1942, 1963, 1964, 1969, 1954,\n",
       "       1950, 1967, 2005, 1957, 1940, 1937, 1955, 1946, 1936, 1930, 2011,\n",
       "       1925, 1948, 1943, 1947, 1945, 1923, 2020, 1939, 1926, 1938, 2030,\n",
       "       1911, 1904, 1949, 1932, 1928, 1929, 1927, 1931, 1914, 2050, 1934,\n",
       "       1910, 1933, 1902, 1924, 1921, 1900, 2038, 2026, 1944, 1917, 1901,\n",
       "       2010, 1908, 1906, 1935, 1806, 2021, '2000', '1995', '1999', '2004',\n",
       "       '2003', '1990', '1994', '1986', '1989', '2002', '1981', '1993',\n",
       "       '1983', '1982', '1976', '1991', '1977', '1998', '1992', '1996',\n",
       "       '0', '1997', '2001', '1974', '1968', '1987', '1984', '1988',\n",
       "       '1963', '1956', '1970', '1985', '1978', '1973', '1980', '1979',\n",
       "       '1975', '1969', '1961', '1965', '1939', '1958', '1950', '1953',\n",
       "       '1966', '1971', '1959', '1972', '1955', '1957', '1945', '1960',\n",
       "       '1967', '1932', '1924', '1964', '2012', '1911', '1927', '1948',\n",
       "       '1962', '2006', '1952', '1940', '1951', '1931', '1954', '2005',\n",
       "       '1930', '1941', '1944', 'DK Publishing Inc', '1943', '1938',\n",
       "       '1900', '1942', '1923', '1920', '1933', 'Gallimard', '1909',\n",
       "       '1946', '2008', '1378', '2030', '1936', '1947', '2011', '2020',\n",
       "       '1919', '1949', '1922', '1897', '2024', '1376', '1926', '2037'],\n",
       "      dtype=object)"
      ]
     },
     "execution_count": 15,
     "metadata": {},
     "output_type": "execute_result"
    }
   ],
   "source": [
    "Books.YearOfPublication.unique()"
   ]
  },
  {
   "cell_type": "code",
   "execution_count": 16,
   "id": "073bdc79",
   "metadata": {},
   "outputs": [
    {
     "data": {
      "text/html": [
       "<div>\n",
       "<style scoped>\n",
       "    .dataframe tbody tr th:only-of-type {\n",
       "        vertical-align: middle;\n",
       "    }\n",
       "\n",
       "    .dataframe tbody tr th {\n",
       "        vertical-align: top;\n",
       "    }\n",
       "\n",
       "    .dataframe thead th {\n",
       "        text-align: right;\n",
       "    }\n",
       "</style>\n",
       "<table border=\"1\" class=\"dataframe\">\n",
       "  <thead>\n",
       "    <tr style=\"text-align: right;\">\n",
       "      <th></th>\n",
       "      <th>ISBN</th>\n",
       "      <th>Book-Title</th>\n",
       "      <th>Book-Author</th>\n",
       "      <th>YearOfPublication</th>\n",
       "      <th>Publisher</th>\n",
       "    </tr>\n",
       "  </thead>\n",
       "  <tbody>\n",
       "    <tr>\n",
       "      <th>209538</th>\n",
       "      <td>078946697X</td>\n",
       "      <td>DK Readers: Creating the X-Men, How It All Beg...</td>\n",
       "      <td>2000</td>\n",
       "      <td>DK Publishing Inc</td>\n",
       "      <td>http://images.amazon.com/images/P/078946697X.0...</td>\n",
       "    </tr>\n",
       "    <tr>\n",
       "      <th>221678</th>\n",
       "      <td>0789466953</td>\n",
       "      <td>DK Readers: Creating the X-Men, How Comic Book...</td>\n",
       "      <td>2000</td>\n",
       "      <td>DK Publishing Inc</td>\n",
       "      <td>http://images.amazon.com/images/P/0789466953.0...</td>\n",
       "    </tr>\n",
       "  </tbody>\n",
       "</table>\n",
       "</div>"
      ],
      "text/plain": [
       "              ISBN                                         Book-Title  \\\n",
       "209538  078946697X  DK Readers: Creating the X-Men, How It All Beg...   \n",
       "221678  0789466953  DK Readers: Creating the X-Men, How Comic Book...   \n",
       "\n",
       "       Book-Author  YearOfPublication  \\\n",
       "209538        2000  DK Publishing Inc   \n",
       "221678        2000  DK Publishing Inc   \n",
       "\n",
       "                                                Publisher  \n",
       "209538  http://images.amazon.com/images/P/078946697X.0...  \n",
       "221678  http://images.amazon.com/images/P/0789466953.0...  "
      ]
     },
     "execution_count": 16,
     "metadata": {},
     "output_type": "execute_result"
    }
   ],
   "source": [
    "Books.loc[Books['YearOfPublication'] == 'DK Publishing Inc',:]"
   ]
  },
  {
   "cell_type": "code",
   "execution_count": 17,
   "id": "9ea80173",
   "metadata": {},
   "outputs": [
    {
     "data": {
      "text/html": [
       "<div>\n",
       "<style scoped>\n",
       "    .dataframe tbody tr th:only-of-type {\n",
       "        vertical-align: middle;\n",
       "    }\n",
       "\n",
       "    .dataframe tbody tr th {\n",
       "        vertical-align: top;\n",
       "    }\n",
       "\n",
       "    .dataframe thead th {\n",
       "        text-align: right;\n",
       "    }\n",
       "</style>\n",
       "<table border=\"1\" class=\"dataframe\">\n",
       "  <thead>\n",
       "    <tr style=\"text-align: right;\">\n",
       "      <th></th>\n",
       "      <th>ISBN</th>\n",
       "      <th>Book-Title</th>\n",
       "      <th>Book-Author</th>\n",
       "      <th>YearOfPublication</th>\n",
       "      <th>Publisher</th>\n",
       "    </tr>\n",
       "  </thead>\n",
       "  <tbody>\n",
       "    <tr>\n",
       "      <th>220731</th>\n",
       "      <td>2070426769</td>\n",
       "      <td>Peuple du ciel, suivi de 'Les Bergers\\\";Jean-M...</td>\n",
       "      <td>2003</td>\n",
       "      <td>Gallimard</td>\n",
       "      <td>http://images.amazon.com/images/P/2070426769.0...</td>\n",
       "    </tr>\n",
       "  </tbody>\n",
       "</table>\n",
       "</div>"
      ],
      "text/plain": [
       "              ISBN                                         Book-Title  \\\n",
       "220731  2070426769  Peuple du ciel, suivi de 'Les Bergers\\\";Jean-M...   \n",
       "\n",
       "       Book-Author YearOfPublication  \\\n",
       "220731        2003         Gallimard   \n",
       "\n",
       "                                                Publisher  \n",
       "220731  http://images.amazon.com/images/P/2070426769.0...  "
      ]
     },
     "execution_count": 17,
     "metadata": {},
     "output_type": "execute_result"
    }
   ],
   "source": [
    "Books.loc[Books['YearOfPublication'] == 'Gallimard',:]"
   ]
  },
  {
   "cell_type": "code",
   "execution_count": 18,
   "id": "dd4d3807",
   "metadata": {},
   "outputs": [
    {
     "data": {
      "text/html": [
       "<div>\n",
       "<style scoped>\n",
       "    .dataframe tbody tr th:only-of-type {\n",
       "        vertical-align: middle;\n",
       "    }\n",
       "\n",
       "    .dataframe tbody tr th {\n",
       "        vertical-align: top;\n",
       "    }\n",
       "\n",
       "    .dataframe thead th {\n",
       "        text-align: right;\n",
       "    }\n",
       "</style>\n",
       "<table border=\"1\" class=\"dataframe\">\n",
       "  <thead>\n",
       "    <tr style=\"text-align: right;\">\n",
       "      <th></th>\n",
       "      <th>ISBN</th>\n",
       "      <th>Book-Title</th>\n",
       "      <th>Book-Author</th>\n",
       "      <th>YearOfPublication</th>\n",
       "      <th>Publisher</th>\n",
       "    </tr>\n",
       "  </thead>\n",
       "  <tbody>\n",
       "    <tr>\n",
       "      <th>209538</th>\n",
       "      <td>078946697X</td>\n",
       "      <td>DK Readers: Creating the X-Men, How It All Beg...</td>\n",
       "      <td>Michael Teitelbaum</td>\n",
       "      <td>2000</td>\n",
       "      <td>DK Publishing Inc</td>\n",
       "    </tr>\n",
       "    <tr>\n",
       "      <th>221678</th>\n",
       "      <td>0789466953</td>\n",
       "      <td>DK Readers: Creating the X-Men, How Comic Book...</td>\n",
       "      <td>James Buckley</td>\n",
       "      <td>2000</td>\n",
       "      <td>DK Publishing Inc</td>\n",
       "    </tr>\n",
       "  </tbody>\n",
       "</table>\n",
       "</div>"
      ],
      "text/plain": [
       "              ISBN                                         Book-Title  \\\n",
       "209538  078946697X  DK Readers: Creating the X-Men, How It All Beg...   \n",
       "221678  0789466953  DK Readers: Creating the X-Men, How Comic Book...   \n",
       "\n",
       "               Book-Author YearOfPublication          Publisher  \n",
       "209538  Michael Teitelbaum              2000  DK Publishing Inc  \n",
       "221678       James Buckley              2000  DK Publishing Inc  "
      ]
     },
     "execution_count": 18,
     "metadata": {},
     "output_type": "execute_result"
    }
   ],
   "source": [
    "# making Correction\n",
    "Books.loc[Books.ISBN == '0789466953','YearOfPublication'] = 2000\n",
    "Books.loc[Books.ISBN == '0789466953','Book-Author'] = \"James Buckley\"\n",
    "Books.loc[Books.ISBN == '0789466953','Publisher'] = \"DK Publishing Inc\"\n",
    "Books.loc[Books.ISBN == '0789466953','Book-Title'] = \"DK Readers: Creating the X-Men, How Comic Books Come to Life (Level 4: Proficient Readers)\"\n",
    "\n",
    "Books.loc[Books.ISBN == '078946697X','YearOfPublication'] = 2000\n",
    "Books.loc[Books.ISBN == '078946697X','Book-Author'] = \"Michael Teitelbaum\"\n",
    "Books.loc[Books.ISBN == '078946697X','Publisher'] = \"DK Publishing Inc\"\n",
    "Books.loc[Books.ISBN == '078946697X','Book-Title'] = \"DK Readers: Creating the X-Men, How It All Began (Level 4: Proficient Readers)\"\n",
    "\n",
    "Books.loc[(Books.ISBN == '0789466953') | (Books.ISBN == '078946697X'),:]"
   ]
  },
  {
   "cell_type": "code",
   "execution_count": 19,
   "id": "2d24249f",
   "metadata": {},
   "outputs": [
    {
     "data": {
      "text/html": [
       "<div>\n",
       "<style scoped>\n",
       "    .dataframe tbody tr th:only-of-type {\n",
       "        vertical-align: middle;\n",
       "    }\n",
       "\n",
       "    .dataframe tbody tr th {\n",
       "        vertical-align: top;\n",
       "    }\n",
       "\n",
       "    .dataframe thead th {\n",
       "        text-align: right;\n",
       "    }\n",
       "</style>\n",
       "<table border=\"1\" class=\"dataframe\">\n",
       "  <thead>\n",
       "    <tr style=\"text-align: right;\">\n",
       "      <th></th>\n",
       "      <th>ISBN</th>\n",
       "      <th>Book-Title</th>\n",
       "      <th>Book-Author</th>\n",
       "      <th>YearOfPublication</th>\n",
       "      <th>Publisher</th>\n",
       "    </tr>\n",
       "  </thead>\n",
       "  <tbody>\n",
       "    <tr>\n",
       "      <th>220731</th>\n",
       "      <td>2070426769</td>\n",
       "      <td>Peuple du ciel, suivi de 'Les Bergers</td>\n",
       "      <td>Jean-Marie Gustave Le ClÃ?Â©zio</td>\n",
       "      <td>2003</td>\n",
       "      <td>Gallimard</td>\n",
       "    </tr>\n",
       "  </tbody>\n",
       "</table>\n",
       "</div>"
      ],
      "text/plain": [
       "              ISBN                             Book-Title  \\\n",
       "220731  2070426769  Peuple du ciel, suivi de 'Les Bergers   \n",
       "\n",
       "                            Book-Author YearOfPublication  Publisher  \n",
       "220731  Jean-Marie Gustave Le ClÃ?Â©zio              2003  Gallimard  "
      ]
     },
     "execution_count": 19,
     "metadata": {},
     "output_type": "execute_result"
    }
   ],
   "source": [
    "Books.loc[Books.ISBN == '2070426769','YearOfPublication'] = 2003\n",
    "Books.loc[Books.ISBN == '2070426769','Book-Author'] = \"Jean-Marie Gustave Le ClÃ?Â©zio\"\n",
    "Books.loc[Books.ISBN == '2070426769','Publisher'] = \"Gallimard\"\n",
    "Books.loc[Books.ISBN == '2070426769','Book-Title'] = \"Peuple du ciel, suivi de 'Les Bergers\"\n",
    "\n",
    "Books.loc[Books.ISBN == '2070426769',:]"
   ]
  },
  {
   "cell_type": "code",
   "execution_count": 20,
   "id": "2f1e6437",
   "metadata": {},
   "outputs": [],
   "source": [
    "Books.YearOfPublication = pd.to_numeric(Books.YearOfPublication, errors='coerce')"
   ]
  },
  {
   "cell_type": "code",
   "execution_count": 21,
   "id": "9f96f9aa",
   "metadata": {},
   "outputs": [],
   "source": [
    "Books.loc[(Books.YearOfPublication > 2006) | (Books.YearOfPublication == 0),'YearOfPublication'] = np.NAN"
   ]
  },
  {
   "cell_type": "code",
   "execution_count": 22,
   "id": "565f1f7e",
   "metadata": {},
   "outputs": [],
   "source": [
    "Books.YearOfPublication.fillna(round(Books.YearOfPublication.mean()),inplace=True)\n",
    "convert_dict = {'YearOfPublication': np.int64,}\n",
    "books = Books.astype(convert_dict)"
   ]
  },
  {
   "cell_type": "code",
   "execution_count": 23,
   "id": "8584e1f7",
   "metadata": {},
   "outputs": [
    {
     "data": {
      "text/plain": [
       "2002.0    17627\n",
       "1999.0    17431\n",
       "2001.0    17359\n",
       "2000.0    17234\n",
       "1994.0    16437\n",
       "          ...  \n",
       "1806.0        1\n",
       "1378.0        1\n",
       "1919.0        1\n",
       "1897.0        1\n",
       "1376.0        1\n",
       "Name: YearOfPublication, Length: 103, dtype: int64"
      ]
     },
     "execution_count": 23,
     "metadata": {},
     "output_type": "execute_result"
    }
   ],
   "source": [
    "Books['YearOfPublication'].value_counts()"
   ]
  },
  {
   "cell_type": "code",
   "execution_count": 24,
   "id": "16d2e9c1",
   "metadata": {},
   "outputs": [
    {
     "data": {
      "image/png": "[encoded data removed]",
      "text/plain": [
       "<Figure size 1080x360 with 1 Axes>"
      ]
     },
     "metadata": {
      "needs_background": "light"
     },
     "output_type": "display_data"
    }
   ],
   "source": [
    "yearOP = Books['YearOfPublication'].value_counts().reset_index()\n",
    "\n",
    "yearOP.columns = ['value', 'count']\n",
    "\n",
    "yearOP['year'] = yearOP['value'].astype(str) + ' year'\n",
    "\n",
    "yearOP = yearOP.sort_values('count',ascending=False)\n",
    "\n",
    "plt.figure(figsize=(15,5))\n",
    "plt.title('Top 30 years of publishing')\n",
    "sns.barplot(data = yearOP.head(10), x='count', y=\"year\");"
   ]
  },
  {
   "cell_type": "code",
   "execution_count": 25,
   "id": "4993792c",
   "metadata": {},
   "outputs": [
    {
     "data": {
      "text/plain": [
       "Agatha Christie         632\n",
       "William Shakespeare     567\n",
       "Stephen King            524\n",
       "Ann M. Martin           423\n",
       "Carolyn Keene           373\n",
       "                       ... \n",
       "R. Gelman                 1\n",
       "Ellery R. Sheets          1\n",
       "Artiste C. Arthur         1\n",
       "Emily Pearl Kingsley      1\n",
       "Christopher  Biffle       1\n",
       "Name: Book-Author, Length: 102022, dtype: int64"
      ]
     },
     "execution_count": 25,
     "metadata": {},
     "output_type": "execute_result"
    }
   ],
   "source": [
    "Books['Book-Author'].value_counts()"
   ]
  },
  {
   "cell_type": "code",
   "execution_count": 26,
   "id": "f598c2bc",
   "metadata": {},
   "outputs": [
    {
     "data": {
      "text/plain": [
       "Text(0.5, 1.0, 'Author Books Counts')"
      ]
     },
     "execution_count": 26,
     "metadata": {},
     "output_type": "execute_result"
    },
    {
     "data": {
      "image/png": "[encoded data removed]",
      "text/plain": [
       "<Figure size 1080x360 with 1 Axes>"
      ]
     },
     "metadata": {
      "needs_background": "light"
     },
     "output_type": "display_data"
    }
   ],
   "source": [
    "plt.figure(figsize=(15,5))\n",
    "sns.countplot(y='Book-Author',data=Books,order=pd.value_counts(Books['Book-Author']).iloc[:10].index)\n",
    "plt.title('Author Books Counts')"
   ]
  },
  {
   "cell_type": "code",
   "execution_count": 27,
   "id": "257aebe7",
   "metadata": {},
   "outputs": [
    {
     "name": "stdout",
     "output_type": "stream",
     "text": [
      "Harlequin                        7535\n",
      "Silhouette                       4220\n",
      "Pocket                           3905\n",
      "Ballantine Books                 3783\n",
      "Bantam Books                     3646\n",
      "                                 ... \n",
      "Windstream Publishing Company       1\n",
      "Polaris Books                       1\n",
      "Hannover House                      1\n",
      "Amber Quill Press, LLC.             1\n",
      "Connaught                           1\n",
      "Name: Publisher, Length: 16805, dtype: int64\n"
     ]
    },
    {
     "data": {
      "text/plain": [
       "Text(0.5, 1.0, 'Top 10 Publishers')"
      ]
     },
     "execution_count": 27,
     "metadata": {},
     "output_type": "execute_result"
    },
    {
     "data": {
      "image/png": "[encoded data removed]",
      "text/plain": [
       "<Figure size 1080x360 with 1 Axes>"
      ]
     },
     "metadata": {
      "needs_background": "light"
     },
     "output_type": "display_data"
    }
   ],
   "source": [
    "print(Books['Publisher'].value_counts())\n",
    "\n",
    "plt.figure(figsize=(15,5))\n",
    "sns.countplot(y='Publisher',data=Books,order=pd.value_counts(Books['Publisher']).iloc[:10].index)\n",
    "plt.title('Top 10 Publishers')"
   ]
  },
  {
   "cell_type": "markdown",
   "id": "b34aeb7b",
   "metadata": {},
   "source": [
    "# Checking Rating Dataset"
   ]
  },
  {
   "cell_type": "code",
   "execution_count": 28,
   "id": "8f1bbfab",
   "metadata": {},
   "outputs": [
    {
     "name": "stdout",
     "output_type": "stream",
     "text": [
      "Columns:  ['User-ID', 'ISBN', 'Book-Rating']\n"
     ]
    },
    {
     "data": {
      "text/html": [
       "<div>\n",
       "<style scoped>\n",
       "    .dataframe tbody tr th:only-of-type {\n",
       "        vertical-align: middle;\n",
       "    }\n",
       "\n",
       "    .dataframe tbody tr th {\n",
       "        vertical-align: top;\n",
       "    }\n",
       "\n",
       "    .dataframe thead th {\n",
       "        text-align: right;\n",
       "    }\n",
       "</style>\n",
       "<table border=\"1\" class=\"dataframe\">\n",
       "  <thead>\n",
       "    <tr style=\"text-align: right;\">\n",
       "      <th></th>\n",
       "      <th>User-ID</th>\n",
       "      <th>ISBN</th>\n",
       "      <th>Book-Rating</th>\n",
       "    </tr>\n",
       "  </thead>\n",
       "  <tbody>\n",
       "    <tr>\n",
       "      <th>0</th>\n",
       "      <td>276725</td>\n",
       "      <td>034545104X</td>\n",
       "      <td>0</td>\n",
       "    </tr>\n",
       "    <tr>\n",
       "      <th>1</th>\n",
       "      <td>276726</td>\n",
       "      <td>0155061224</td>\n",
       "      <td>5</td>\n",
       "    </tr>\n",
       "    <tr>\n",
       "      <th>2</th>\n",
       "      <td>276727</td>\n",
       "      <td>0446520802</td>\n",
       "      <td>0</td>\n",
       "    </tr>\n",
       "    <tr>\n",
       "      <th>3</th>\n",
       "      <td>276729</td>\n",
       "      <td>052165615X</td>\n",
       "      <td>3</td>\n",
       "    </tr>\n",
       "    <tr>\n",
       "      <th>4</th>\n",
       "      <td>276729</td>\n",
       "      <td>0521795028</td>\n",
       "      <td>6</td>\n",
       "    </tr>\n",
       "  </tbody>\n",
       "</table>\n",
       "</div>"
      ],
      "text/plain": [
       "   User-ID        ISBN  Book-Rating\n",
       "0   276725  034545104X            0\n",
       "1   276726  0155061224            5\n",
       "2   276727  0446520802            0\n",
       "3   276729  052165615X            3\n",
       "4   276729  0521795028            6"
      ]
     },
     "execution_count": 28,
     "metadata": {},
     "output_type": "execute_result"
    }
   ],
   "source": [
    "print(\"Columns: \", list(Rating.columns))\n",
    "Rating.head()"
   ]
  },
  {
   "cell_type": "code",
   "execution_count": 29,
   "id": "86c48cca",
   "metadata": {},
   "outputs": [
    {
     "name": "stdout",
     "output_type": "stream",
     "text": [
      "<class 'pandas.core.frame.DataFrame'>\n",
      "RangeIndex: 1149780 entries, 0 to 1149779\n",
      "Data columns (total 3 columns):\n",
      " #   Column       Non-Null Count    Dtype \n",
      "---  ------       --------------    ----- \n",
      " 0   User-ID      1149780 non-null  int64 \n",
      " 1   ISBN         1149780 non-null  object\n",
      " 2   Book-Rating  1149780 non-null  int64 \n",
      "dtypes: int64(2), object(1)\n",
      "memory usage: 26.3+ MB\n"
     ]
    }
   ],
   "source": [
    "Rating.info()"
   ]
  },
  {
   "cell_type": "code",
   "execution_count": 30,
   "id": "061cd92d",
   "metadata": {},
   "outputs": [
    {
     "data": {
      "text/plain": [
       "User-ID         int64\n",
       "ISBN           object\n",
       "Book-Rating     int64\n",
       "dtype: object"
      ]
     },
     "execution_count": 30,
     "metadata": {},
     "output_type": "execute_result"
    }
   ],
   "source": [
    "Rating.dtypes"
   ]
  },
  {
   "cell_type": "code",
   "execution_count": 31,
   "id": "fb6932d5",
   "metadata": {},
   "outputs": [
    {
     "name": "stdout",
     "output_type": "stream",
     "text": [
      "Duplicate entries: 0\n"
     ]
    }
   ],
   "source": [
    "print(f'Duplicate entries: {Rating.duplicated().sum()}')"
   ]
  },
  {
   "cell_type": "markdown",
   "id": "085fbb29",
   "metadata": {},
   "source": [
    "Ratings dataset should have books only which exist in our books dataset"
   ]
  },
  {
   "cell_type": "code",
   "execution_count": 32,
   "id": "fb117682",
   "metadata": {},
   "outputs": [
    {
     "data": {
      "text/plain": [
       "((1149780, 3), (1031136, 3))"
      ]
     },
     "execution_count": 32,
     "metadata": {},
     "output_type": "execute_result"
    }
   ],
   "source": [
    "Rating_new = Rating[Rating.ISBN.isin(Books.ISBN)]\n",
    "Rating.shape,Rating_new.shape"
   ]
  },
  {
   "cell_type": "markdown",
   "id": "418c63ae",
   "metadata": {},
   "source": [
    "rows having Books ISBN not part of books dataset"
   ]
  },
  {
   "cell_type": "code",
   "execution_count": 33,
   "id": "b435e8fc",
   "metadata": {},
   "outputs": [
    {
     "name": "stdout",
     "output_type": "stream",
     "text": [
      "Shape of dataset before dropping (1031136, 3)\n",
      "shape of dataset after dropping (1031136, 3)\n"
     ]
    }
   ],
   "source": [
    "print(\"Shape of dataset before dropping\",Rating_new.shape)\n",
    "Rating_new = Rating_new[Rating_new['User-ID'].isin(User['User-ID'])]\n",
    "print(\"shape of dataset after dropping\",Rating_new.shape)"
   ]
  },
  {
   "cell_type": "code",
   "execution_count": 34,
   "id": "dc8dae26",
   "metadata": {},
   "outputs": [
    {
     "data": {
      "image/png": "[encoded data removed]",
      "text/plain": [
       "<Figure size 1008x504 with 1 Axes>"
      ]
     },
     "metadata": {
      "needs_background": "light"
     },
     "output_type": "display_data"
    }
   ],
   "source": [
    "from IPython.core.pylabtools import figsize\n",
    "figsize(14, 7)\n",
    "plt.rc(\"font\", size=15)\n",
    "Rating_new['Book-Rating'].value_counts(sort=False).plot(kind='bar')\n",
    "plt.title('Rating Distribution\\n')\n",
    "plt.xlabel('Rating')\n",
    "plt.ylabel('Count')\n",
    "plt.show()"
   ]
  },
  {
   "cell_type": "markdown",
   "id": "99e5e902",
   "metadata": {},
   "source": [
    "The ratings are very unevenly distributed, and the vast majority of ratings are 0"
   ]
  },
  {
   "cell_type": "code",
   "execution_count": 35,
   "id": "98c26b16",
   "metadata": {},
   "outputs": [],
   "source": [
    "#Hence segragating implicit and explict Rating datasets\n",
    "Rating_explicit = Rating_new[Rating_new['Book-Rating'] != 0]\n",
    "Rating_implicit = Rating_new[Rating_new['Book-Rating'] == 0]"
   ]
  },
  {
   "cell_type": "code",
   "execution_count": 36,
   "id": "3a226e02",
   "metadata": {},
   "outputs": [
    {
     "name": "stdout",
     "output_type": "stream",
     "text": [
      "Rating_explicit dataset shape (383842, 3)\n",
      "Rating_implicit dataset (647294, 3)\n"
     ]
    }
   ],
   "source": [
    "print('Rating_explicit dataset shape',Rating_explicit.shape)\n",
    "print('Rating_implicit dataset',Rating_implicit.shape)"
   ]
  },
  {
   "cell_type": "code",
   "execution_count": 37,
   "id": "38365a3c",
   "metadata": {},
   "outputs": [
    {
     "data": {
      "text/plain": [
       "<AxesSubplot:xlabel='Book-Rating', ylabel='count'>"
      ]
     },
     "execution_count": 37,
     "metadata": {},
     "output_type": "execute_result"
    },
    {
     "data": {
      "image/png": "[encoded data removed]",
      "text/plain": [
       "<Figure size 1080x504 with 1 Axes>"
      ]
     },
     "metadata": {},
     "output_type": "display_data"
    }
   ],
   "source": [
    "plt.style.use('fivethirtyeight')\n",
    "plt.figure(figsize=(15, 7))\n",
    "sns.countplot(data=Rating_explicit , x='Book-Rating', palette='rocket_r')"
   ]
  },
  {
   "cell_type": "code",
   "execution_count": 38,
   "id": "f2611213",
   "metadata": {},
   "outputs": [
    {
     "data": {
      "text/html": [
       "<div>\n",
       "<style scoped>\n",
       "    .dataframe tbody tr th:only-of-type {\n",
       "        vertical-align: middle;\n",
       "    }\n",
       "\n",
       "    .dataframe tbody tr th {\n",
       "        vertical-align: top;\n",
       "    }\n",
       "\n",
       "    .dataframe thead th {\n",
       "        text-align: right;\n",
       "    }\n",
       "</style>\n",
       "<table border=\"1\" class=\"dataframe\">\n",
       "  <thead>\n",
       "    <tr style=\"text-align: right;\">\n",
       "      <th></th>\n",
       "      <th>Book-Rating</th>\n",
       "    </tr>\n",
       "    <tr>\n",
       "      <th>ISBN</th>\n",
       "      <th></th>\n",
       "    </tr>\n",
       "  </thead>\n",
       "  <tbody>\n",
       "    <tr>\n",
       "      <th>0316666343</th>\n",
       "      <td>707</td>\n",
       "    </tr>\n",
       "    <tr>\n",
       "      <th>0971880107</th>\n",
       "      <td>581</td>\n",
       "    </tr>\n",
       "    <tr>\n",
       "      <th>0385504209</th>\n",
       "      <td>487</td>\n",
       "    </tr>\n",
       "    <tr>\n",
       "      <th>0312195516</th>\n",
       "      <td>383</td>\n",
       "    </tr>\n",
       "    <tr>\n",
       "      <th>0060928336</th>\n",
       "      <td>320</td>\n",
       "    </tr>\n",
       "  </tbody>\n",
       "</table>\n",
       "</div>"
      ],
      "text/plain": [
       "            Book-Rating\n",
       "ISBN                   \n",
       "0316666343          707\n",
       "0971880107          581\n",
       "0385504209          487\n",
       "0312195516          383\n",
       "0060928336          320"
      ]
     },
     "execution_count": 38,
     "metadata": {},
     "output_type": "execute_result"
    }
   ],
   "source": [
    "Rating_count = pd.DataFrame(Rating_explicit.groupby('ISBN')['Book-Rating'].count())\n",
    "Rating_count.sort_values('Book-Rating', ascending=False).head()"
   ]
  },
  {
   "cell_type": "code",
   "execution_count": 39,
   "id": "3749b1e7",
   "metadata": {},
   "outputs": [
    {
     "name": "stdout",
     "output_type": "stream",
     "text": [
      "Following Books are Recommended\n"
     ]
    },
    {
     "data": {
      "text/html": [
       "<div>\n",
       "<style scoped>\n",
       "    .dataframe tbody tr th:only-of-type {\n",
       "        vertical-align: middle;\n",
       "    }\n",
       "\n",
       "    .dataframe tbody tr th {\n",
       "        vertical-align: top;\n",
       "    }\n",
       "\n",
       "    .dataframe thead th {\n",
       "        text-align: right;\n",
       "    }\n",
       "</style>\n",
       "<table border=\"1\" class=\"dataframe\">\n",
       "  <thead>\n",
       "    <tr style=\"text-align: right;\">\n",
       "      <th></th>\n",
       "      <th>Book-Rating</th>\n",
       "      <th>ISBN</th>\n",
       "      <th>Book-Title</th>\n",
       "      <th>Book-Author</th>\n",
       "      <th>YearOfPublication</th>\n",
       "      <th>Publisher</th>\n",
       "    </tr>\n",
       "  </thead>\n",
       "  <tbody>\n",
       "    <tr>\n",
       "      <th>408</th>\n",
       "      <td>5787</td>\n",
       "      <td>0316666343</td>\n",
       "      <td>The Lovely Bones: A Novel</td>\n",
       "      <td>Alice Sebold</td>\n",
       "      <td>2002.0</td>\n",
       "      <td>Little, Brown</td>\n",
       "    </tr>\n",
       "    <tr>\n",
       "      <th>748</th>\n",
       "      <td>4108</td>\n",
       "      <td>0385504209</td>\n",
       "      <td>The Da Vinci Code</td>\n",
       "      <td>Dan Brown</td>\n",
       "      <td>2003.0</td>\n",
       "      <td>Doubleday</td>\n",
       "    </tr>\n",
       "    <tr>\n",
       "      <th>522</th>\n",
       "      <td>3134</td>\n",
       "      <td>0312195516</td>\n",
       "      <td>The Red Tent (Bestselling Backlist)</td>\n",
       "      <td>Anita Diamant</td>\n",
       "      <td>1998.0</td>\n",
       "      <td>Picador USA</td>\n",
       "    </tr>\n",
       "    <tr>\n",
       "      <th>2143</th>\n",
       "      <td>2798</td>\n",
       "      <td>059035342X</td>\n",
       "      <td>Harry Potter and the Sorcerer's Stone (Harry P...</td>\n",
       "      <td>J. K. Rowling</td>\n",
       "      <td>1999.0</td>\n",
       "      <td>Arthur A. Levine Books</td>\n",
       "    </tr>\n",
       "    <tr>\n",
       "      <th>356</th>\n",
       "      <td>2595</td>\n",
       "      <td>0142001740</td>\n",
       "      <td>The Secret Life of Bees</td>\n",
       "      <td>Sue Monk Kidd</td>\n",
       "      <td>2003.0</td>\n",
       "      <td>Penguin Books</td>\n",
       "    </tr>\n",
       "    <tr>\n",
       "      <th>26</th>\n",
       "      <td>2551</td>\n",
       "      <td>0971880107</td>\n",
       "      <td>Wild Animus</td>\n",
       "      <td>Rich Shapero</td>\n",
       "      <td>2004.0</td>\n",
       "      <td>Too Far</td>\n",
       "    </tr>\n",
       "    <tr>\n",
       "      <th>1105</th>\n",
       "      <td>2524</td>\n",
       "      <td>0060928336</td>\n",
       "      <td>Divine Secrets of the Ya-Ya Sisterhood: A Novel</td>\n",
       "      <td>Rebecca Wells</td>\n",
       "      <td>1997.0</td>\n",
       "      <td>Perennial</td>\n",
       "    </tr>\n",
       "    <tr>\n",
       "      <th>706</th>\n",
       "      <td>2402</td>\n",
       "      <td>0446672211</td>\n",
       "      <td>Where the Heart Is (Oprah's Book Club (Paperba...</td>\n",
       "      <td>Billie Letts</td>\n",
       "      <td>1998.0</td>\n",
       "      <td>Warner Books</td>\n",
       "    </tr>\n",
       "    <tr>\n",
       "      <th>231</th>\n",
       "      <td>2219</td>\n",
       "      <td>0452282152</td>\n",
       "      <td>Girl with a Pearl Earring</td>\n",
       "      <td>Tracy Chevalier</td>\n",
       "      <td>2001.0</td>\n",
       "      <td>Plume Books</td>\n",
       "    </tr>\n",
       "    <tr>\n",
       "      <th>118</th>\n",
       "      <td>2179</td>\n",
       "      <td>0671027360</td>\n",
       "      <td>Angels &amp;amp; Demons</td>\n",
       "      <td>Dan Brown</td>\n",
       "      <td>2001.0</td>\n",
       "      <td>Pocket Star</td>\n",
       "    </tr>\n",
       "  </tbody>\n",
       "</table>\n",
       "</div>"
      ],
      "text/plain": [
       "      Book-Rating        ISBN  \\\n",
       "408          5787  0316666343   \n",
       "748          4108  0385504209   \n",
       "522          3134  0312195516   \n",
       "2143         2798  059035342X   \n",
       "356          2595  0142001740   \n",
       "26           2551  0971880107   \n",
       "1105         2524  0060928336   \n",
       "706          2402  0446672211   \n",
       "231          2219  0452282152   \n",
       "118          2179  0671027360   \n",
       "\n",
       "                                             Book-Title      Book-Author  \\\n",
       "408                           The Lovely Bones: A Novel     Alice Sebold   \n",
       "748                                   The Da Vinci Code        Dan Brown   \n",
       "522                 The Red Tent (Bestselling Backlist)    Anita Diamant   \n",
       "2143  Harry Potter and the Sorcerer's Stone (Harry P...    J. K. Rowling   \n",
       "356                             The Secret Life of Bees    Sue Monk Kidd   \n",
       "26                                          Wild Animus     Rich Shapero   \n",
       "1105    Divine Secrets of the Ya-Ya Sisterhood: A Novel    Rebecca Wells   \n",
       "706   Where the Heart Is (Oprah's Book Club (Paperba...     Billie Letts   \n",
       "231                           Girl with a Pearl Earring  Tracy Chevalier   \n",
       "118                                 Angels &amp; Demons        Dan Brown   \n",
       "\n",
       "      YearOfPublication               Publisher  \n",
       "408              2002.0           Little, Brown  \n",
       "748              2003.0               Doubleday  \n",
       "522              1998.0             Picador USA  \n",
       "2143             1999.0  Arthur A. Levine Books  \n",
       "356              2003.0           Penguin Books  \n",
       "26               2004.0                 Too Far  \n",
       "1105             1997.0               Perennial  \n",
       "706              1998.0            Warner Books  \n",
       "231              2001.0             Plume Books  \n",
       "118              2001.0             Pocket Star  "
      ]
     },
     "execution_count": 39,
     "metadata": {},
     "output_type": "execute_result"
    }
   ],
   "source": [
    "Rating_count = pd.DataFrame(Rating_explicit.groupby(['ISBN'])['Book-Rating'].sum())\n",
    "Top10 = Rating_count.sort_values('Book-Rating',ascending = False).head(10)\n",
    "print (\"Following Books are Recommended\")\n",
    "Top10.merge(Books,left_index = True, right_on = 'ISBN')"
   ]
  },
  {
   "cell_type": "code",
   "execution_count": 40,
   "id": "7d12ca80",
   "metadata": {},
   "outputs": [],
   "source": [
    "# Create column Rating average \n",
    "Rating_explicit['Avg_Rating']=Rating_explicit.groupby('ISBN')['Book-Rating'].transform('mean')\n",
    "# Create column Rating sum\n",
    "Rating_explicit['Total_No_Of_Users_Rated']=Rating_explicit.groupby('ISBN')['Book-Rating'].transform('count')"
   ]
  },
  {
   "cell_type": "code",
   "execution_count": 41,
   "id": "16f8aae9",
   "metadata": {},
   "outputs": [
    {
     "data": {
      "text/html": [
       "<div>\n",
       "<style scoped>\n",
       "    .dataframe tbody tr th:only-of-type {\n",
       "        vertical-align: middle;\n",
       "    }\n",
       "\n",
       "    .dataframe tbody tr th {\n",
       "        vertical-align: top;\n",
       "    }\n",
       "\n",
       "    .dataframe thead th {\n",
       "        text-align: right;\n",
       "    }\n",
       "</style>\n",
       "<table border=\"1\" class=\"dataframe\">\n",
       "  <thead>\n",
       "    <tr style=\"text-align: right;\">\n",
       "      <th></th>\n",
       "      <th>User-ID</th>\n",
       "      <th>ISBN</th>\n",
       "      <th>Book-Rating</th>\n",
       "      <th>Avg_Rating</th>\n",
       "      <th>Total_No_Of_Users_Rated</th>\n",
       "    </tr>\n",
       "  </thead>\n",
       "  <tbody>\n",
       "    <tr>\n",
       "      <th>1</th>\n",
       "      <td>276726</td>\n",
       "      <td>0155061224</td>\n",
       "      <td>5</td>\n",
       "      <td>5.000000</td>\n",
       "      <td>1</td>\n",
       "    </tr>\n",
       "    <tr>\n",
       "      <th>3</th>\n",
       "      <td>276729</td>\n",
       "      <td>052165615X</td>\n",
       "      <td>3</td>\n",
       "      <td>3.000000</td>\n",
       "      <td>1</td>\n",
       "    </tr>\n",
       "    <tr>\n",
       "      <th>4</th>\n",
       "      <td>276729</td>\n",
       "      <td>0521795028</td>\n",
       "      <td>6</td>\n",
       "      <td>6.000000</td>\n",
       "      <td>1</td>\n",
       "    </tr>\n",
       "    <tr>\n",
       "      <th>8</th>\n",
       "      <td>276744</td>\n",
       "      <td>038550120X</td>\n",
       "      <td>7</td>\n",
       "      <td>7.580247</td>\n",
       "      <td>81</td>\n",
       "    </tr>\n",
       "    <tr>\n",
       "      <th>16</th>\n",
       "      <td>276747</td>\n",
       "      <td>0060517794</td>\n",
       "      <td>9</td>\n",
       "      <td>8.000000</td>\n",
       "      <td>30</td>\n",
       "    </tr>\n",
       "  </tbody>\n",
       "</table>\n",
       "</div>"
      ],
      "text/plain": [
       "    User-ID        ISBN  Book-Rating  Avg_Rating  Total_No_Of_Users_Rated\n",
       "1    276726  0155061224            5    5.000000                        1\n",
       "3    276729  052165615X            3    3.000000                        1\n",
       "4    276729  0521795028            6    6.000000                        1\n",
       "8    276744  038550120X            7    7.580247                       81\n",
       "16   276747  0060517794            9    8.000000                       30"
      ]
     },
     "execution_count": 41,
     "metadata": {},
     "output_type": "execute_result"
    }
   ],
   "source": [
    "Rating_explicit.head()"
   ]
  },
  {
   "cell_type": "markdown",
   "id": "08671e20",
   "metadata": {},
   "source": [
    "# Checking Users Dataset"
   ]
  },
  {
   "cell_type": "code",
   "execution_count": 42,
   "id": "5d2517e9",
   "metadata": {},
   "outputs": [
    {
     "data": {
      "text/html": [
       "<div>\n",
       "<style scoped>\n",
       "    .dataframe tbody tr th:only-of-type {\n",
       "        vertical-align: middle;\n",
       "    }\n",
       "\n",
       "    .dataframe tbody tr th {\n",
       "        vertical-align: top;\n",
       "    }\n",
       "\n",
       "    .dataframe thead th {\n",
       "        text-align: right;\n",
       "    }\n",
       "</style>\n",
       "<table border=\"1\" class=\"dataframe\">\n",
       "  <thead>\n",
       "    <tr style=\"text-align: right;\">\n",
       "      <th></th>\n",
       "      <th>User-ID</th>\n",
       "      <th>Location</th>\n",
       "      <th>Age</th>\n",
       "    </tr>\n",
       "  </thead>\n",
       "  <tbody>\n",
       "    <tr>\n",
       "      <th>0</th>\n",
       "      <td>1</td>\n",
       "      <td>nyc, new york, usa</td>\n",
       "      <td>NaN</td>\n",
       "    </tr>\n",
       "    <tr>\n",
       "      <th>1</th>\n",
       "      <td>2</td>\n",
       "      <td>stockton, california, usa</td>\n",
       "      <td>18.0</td>\n",
       "    </tr>\n",
       "    <tr>\n",
       "      <th>2</th>\n",
       "      <td>3</td>\n",
       "      <td>moscow, yukon territory, russia</td>\n",
       "      <td>NaN</td>\n",
       "    </tr>\n",
       "    <tr>\n",
       "      <th>3</th>\n",
       "      <td>4</td>\n",
       "      <td>porto, v.n.gaia, portugal</td>\n",
       "      <td>17.0</td>\n",
       "    </tr>\n",
       "    <tr>\n",
       "      <th>4</th>\n",
       "      <td>5</td>\n",
       "      <td>farnborough, hants, united kingdom</td>\n",
       "      <td>NaN</td>\n",
       "    </tr>\n",
       "  </tbody>\n",
       "</table>\n",
       "</div>"
      ],
      "text/plain": [
       "   User-ID                            Location   Age\n",
       "0        1                  nyc, new york, usa   NaN\n",
       "1        2           stockton, california, usa  18.0\n",
       "2        3     moscow, yukon territory, russia   NaN\n",
       "3        4           porto, v.n.gaia, portugal  17.0\n",
       "4        5  farnborough, hants, united kingdom   NaN"
      ]
     },
     "execution_count": 42,
     "metadata": {},
     "output_type": "execute_result"
    }
   ],
   "source": [
    "User.head()"
   ]
  },
  {
   "cell_type": "code",
   "execution_count": 43,
   "id": "8fba2945",
   "metadata": {},
   "outputs": [
    {
     "name": "stdout",
     "output_type": "stream",
     "text": [
      "<class 'pandas.core.frame.DataFrame'>\n",
      "RangeIndex: 278858 entries, 0 to 278857\n",
      "Data columns (total 3 columns):\n",
      " #   Column    Non-Null Count   Dtype  \n",
      "---  ------    --------------   -----  \n",
      " 0   User-ID   278858 non-null  int64  \n",
      " 1   Location  278858 non-null  object \n",
      " 2   Age       168096 non-null  float64\n",
      "dtypes: float64(1), int64(1), object(1)\n",
      "memory usage: 6.4+ MB\n"
     ]
    }
   ],
   "source": [
    "User.info()"
   ]
  },
  {
   "cell_type": "code",
   "execution_count": 44,
   "id": "538670f9",
   "metadata": {},
   "outputs": [
    {
     "data": {
      "text/plain": [
       "User-ID          0\n",
       "Location         0\n",
       "Age         110762\n",
       "dtype: int64"
      ]
     },
     "execution_count": 44,
     "metadata": {},
     "output_type": "execute_result"
    }
   ],
   "source": [
    "User.isnull().sum()"
   ]
  },
  {
   "cell_type": "code",
   "execution_count": 45,
   "id": "93129f60",
   "metadata": {},
   "outputs": [],
   "source": [
    "def missing_values(df):\n",
    "    mis_val=df.isnull().sum()\n",
    "    mis_val_percent=round(df.isnull().mean().mul(100),2)\n",
    "    mz_table=pd.concat([mis_val,mis_val_percent],axis=1)\n",
    "    mz_table=mz_table.rename(\n",
    "    columns={df.index.name:'col_name',0:'Missing Values',1:'% of Total Values'})\n",
    "    mz_table['Data_type']=df.dtypes\n",
    "    mz_table=mz_table.sort_values('% of Total Values',ascending=False)\n",
    "    return mz_table.reset_index()"
   ]
  },
  {
   "cell_type": "code",
   "execution_count": 46,
   "id": "3c3b77bf",
   "metadata": {},
   "outputs": [
    {
     "data": {
      "text/html": [
       "<div>\n",
       "<style scoped>\n",
       "    .dataframe tbody tr th:only-of-type {\n",
       "        vertical-align: middle;\n",
       "    }\n",
       "\n",
       "    .dataframe tbody tr th {\n",
       "        vertical-align: top;\n",
       "    }\n",
       "\n",
       "    .dataframe thead th {\n",
       "        text-align: right;\n",
       "    }\n",
       "</style>\n",
       "<table border=\"1\" class=\"dataframe\">\n",
       "  <thead>\n",
       "    <tr style=\"text-align: right;\">\n",
       "      <th></th>\n",
       "      <th>index</th>\n",
       "      <th>Missing Values</th>\n",
       "      <th>% of Total Values</th>\n",
       "      <th>Data_type</th>\n",
       "    </tr>\n",
       "  </thead>\n",
       "  <tbody>\n",
       "    <tr>\n",
       "      <th>0</th>\n",
       "      <td>Age</td>\n",
       "      <td>110762</td>\n",
       "      <td>39.72</td>\n",
       "      <td>float64</td>\n",
       "    </tr>\n",
       "    <tr>\n",
       "      <th>1</th>\n",
       "      <td>User-ID</td>\n",
       "      <td>0</td>\n",
       "      <td>0.00</td>\n",
       "      <td>int64</td>\n",
       "    </tr>\n",
       "    <tr>\n",
       "      <th>2</th>\n",
       "      <td>Location</td>\n",
       "      <td>0</td>\n",
       "      <td>0.00</td>\n",
       "      <td>object</td>\n",
       "    </tr>\n",
       "  </tbody>\n",
       "</table>\n",
       "</div>"
      ],
      "text/plain": [
       "      index  Missing Values  % of Total Values Data_type\n",
       "0       Age          110762              39.72   float64\n",
       "1   User-ID               0               0.00     int64\n",
       "2  Location               0               0.00    object"
      ]
     },
     "execution_count": 46,
     "metadata": {},
     "output_type": "execute_result"
    }
   ],
   "source": [
    "missing_values(User)"
   ]
  },
  {
   "cell_type": "markdown",
   "id": "98dca3eb",
   "metadata": {},
   "source": [
    "Age Distribution"
   ]
  },
  {
   "cell_type": "code",
   "execution_count": 47,
   "id": "0a56788b",
   "metadata": {},
   "outputs": [
    {
     "data": {
      "image/png": "[encoded data removed]",
      "text/plain": [
       "<Figure size 1008x504 with 1 Axes>"
      ]
     },
     "metadata": {},
     "output_type": "display_data"
    }
   ],
   "source": [
    "User.Age.hist(bins=[0, 10, 20, 30, 40, 50, 100])\n",
    "plt.title('Age Distribution\\n')\n",
    "plt.xlabel('Age')\n",
    "plt.ylabel('Count')\n",
    "plt.show()"
   ]
  },
  {
   "cell_type": "markdown",
   "id": "59ec045a",
   "metadata": {},
   "source": [
    "Most active users are from around 20 - 30\n",
    "\n",
    "Check Outliers"
   ]
  },
  {
   "cell_type": "code",
   "execution_count": 48,
   "id": "5fa624e0",
   "metadata": {},
   "outputs": [
    {
     "data": {
      "text/plain": [
       "Text(0.5, 1.0, 'Find outlier data in Age column')"
      ]
     },
     "execution_count": 48,
     "metadata": {},
     "output_type": "execute_result"
    },
    {
     "data": {
      "image/png": "[encoded data removed]",
      "text/plain": [
       "<Figure size 1080x576 with 1 Axes>"
      ]
     },
     "metadata": {},
     "output_type": "display_data"
    }
   ],
   "source": [
    "plt.figure(figsize=(15,8))\n",
    "sns.boxplot(x='Age', data=User)\n",
    "plt.title('Find outlier data in Age column')"
   ]
  },
  {
   "cell_type": "code",
   "execution_count": 49,
   "id": "b0599816",
   "metadata": {},
   "outputs": [
    {
     "data": {
      "text/plain": [
       "Text(0.5, 1.0, 'Age Distribution Plot')"
      ]
     },
     "execution_count": 49,
     "metadata": {},
     "output_type": "execute_result"
    },
    {
     "data": {
      "image/png": "[encoded data removed]",
      "text/plain": [
       "<Figure size 1080x576 with 1 Axes>"
      ]
     },
     "metadata": {},
     "output_type": "display_data"
    }
   ],
   "source": [
    "plt.figure(figsize=(15,8))\n",
    "sns.distplot(User.Age)\n",
    "plt.title('Age Distribution Plot')"
   ]
  },
  {
   "cell_type": "markdown",
   "id": "97b780e9",
   "metadata": {},
   "source": [
    "Age value's below 5 and above 100 do not make much sense for our book rating case...hence replacing these by NaNs"
   ]
  },
  {
   "cell_type": "code",
   "execution_count": 50,
   "id": "80e45c66",
   "metadata": {},
   "outputs": [],
   "source": [
    "User.loc[(User.Age > 90) | (User.Age < 10), 'Age'] = np.nan"
   ]
  },
  {
   "cell_type": "code",
   "execution_count": 51,
   "id": "132d9cc4",
   "metadata": {},
   "outputs": [
    {
     "data": {
      "text/plain": [
       "User-ID          0\n",
       "Location         0\n",
       "Age         112261\n",
       "dtype: int64"
      ]
     },
     "execution_count": 51,
     "metadata": {},
     "output_type": "execute_result"
    }
   ],
   "source": [
    "User.isnull().sum()"
   ]
  },
  {
   "cell_type": "markdown",
   "id": "34228fc1",
   "metadata": {},
   "source": [
    "For Location"
   ]
  },
  {
   "cell_type": "code",
   "execution_count": 52,
   "id": "d3b3c359",
   "metadata": {},
   "outputs": [
    {
     "data": {
      "text/plain": [
       "57339"
      ]
     },
     "execution_count": 52,
     "metadata": {},
     "output_type": "execute_result"
    }
   ],
   "source": [
    "User.Location.nunique()"
   ]
  },
  {
   "cell_type": "code",
   "execution_count": 53,
   "id": "3e7c33ac",
   "metadata": {},
   "outputs": [
    {
     "data": {
      "text/html": [
       "<div>\n",
       "<style scoped>\n",
       "    .dataframe tbody tr th:only-of-type {\n",
       "        vertical-align: middle;\n",
       "    }\n",
       "\n",
       "    .dataframe tbody tr th {\n",
       "        vertical-align: top;\n",
       "    }\n",
       "\n",
       "    .dataframe thead th {\n",
       "        text-align: right;\n",
       "    }\n",
       "</style>\n",
       "<table border=\"1\" class=\"dataframe\">\n",
       "  <thead>\n",
       "    <tr style=\"text-align: right;\">\n",
       "      <th></th>\n",
       "      <th>User-ID</th>\n",
       "      <th>Location</th>\n",
       "      <th>Age</th>\n",
       "    </tr>\n",
       "  </thead>\n",
       "  <tbody>\n",
       "    <tr>\n",
       "      <th>0</th>\n",
       "      <td>1</td>\n",
       "      <td>nyc, new york, usa</td>\n",
       "      <td>NaN</td>\n",
       "    </tr>\n",
       "    <tr>\n",
       "      <th>1</th>\n",
       "      <td>2</td>\n",
       "      <td>stockton, california, usa</td>\n",
       "      <td>18.0</td>\n",
       "    </tr>\n",
       "    <tr>\n",
       "      <th>2</th>\n",
       "      <td>3</td>\n",
       "      <td>moscow, yukon territory, russia</td>\n",
       "      <td>NaN</td>\n",
       "    </tr>\n",
       "    <tr>\n",
       "      <th>3</th>\n",
       "      <td>4</td>\n",
       "      <td>porto, v.n.gaia, portugal</td>\n",
       "      <td>17.0</td>\n",
       "    </tr>\n",
       "    <tr>\n",
       "      <th>4</th>\n",
       "      <td>5</td>\n",
       "      <td>farnborough, hants, united kingdom</td>\n",
       "      <td>NaN</td>\n",
       "    </tr>\n",
       "  </tbody>\n",
       "</table>\n",
       "</div>"
      ],
      "text/plain": [
       "   User-ID                            Location   Age\n",
       "0        1                  nyc, new york, usa   NaN\n",
       "1        2           stockton, california, usa  18.0\n",
       "2        3     moscow, yukon territory, russia   NaN\n",
       "3        4           porto, v.n.gaia, portugal  17.0\n",
       "4        5  farnborough, hants, united kingdom   NaN"
      ]
     },
     "execution_count": 53,
     "metadata": {},
     "output_type": "execute_result"
    }
   ],
   "source": [
    "User.head()"
   ]
  },
  {
   "cell_type": "code",
   "execution_count": 54,
   "id": "36f06389",
   "metadata": {},
   "outputs": [
    {
     "name": "stdout",
     "output_type": "stream",
     "text": [
      "<class 'pandas.core.frame.DataFrame'>\n",
      "RangeIndex: 278858 entries, 0 to 278857\n",
      "Data columns (total 3 columns):\n",
      " #   Column    Non-Null Count   Dtype  \n",
      "---  ------    --------------   -----  \n",
      " 0   User-ID   278858 non-null  int64  \n",
      " 1   Location  278858 non-null  object \n",
      " 2   Age       166597 non-null  float64\n",
      "dtypes: float64(1), int64(1), object(1)\n",
      "memory usage: 6.4+ MB\n"
     ]
    }
   ],
   "source": [
    "User.info()"
   ]
  },
  {
   "cell_type": "code",
   "execution_count": 55,
   "id": "0df43cdd",
   "metadata": {},
   "outputs": [],
   "source": [
    "User['Country']= User['Location'].str.split(',').str[-1]"
   ]
  },
  {
   "cell_type": "code",
   "execution_count": 56,
   "id": "f9f5ba76",
   "metadata": {},
   "outputs": [
    {
     "data": {
      "text/html": [
       "<div>\n",
       "<style scoped>\n",
       "    .dataframe tbody tr th:only-of-type {\n",
       "        vertical-align: middle;\n",
       "    }\n",
       "\n",
       "    .dataframe tbody tr th {\n",
       "        vertical-align: top;\n",
       "    }\n",
       "\n",
       "    .dataframe thead th {\n",
       "        text-align: right;\n",
       "    }\n",
       "</style>\n",
       "<table border=\"1\" class=\"dataframe\">\n",
       "  <thead>\n",
       "    <tr style=\"text-align: right;\">\n",
       "      <th></th>\n",
       "      <th>User-ID</th>\n",
       "      <th>Location</th>\n",
       "      <th>Age</th>\n",
       "      <th>Country</th>\n",
       "    </tr>\n",
       "  </thead>\n",
       "  <tbody>\n",
       "    <tr>\n",
       "      <th>0</th>\n",
       "      <td>1</td>\n",
       "      <td>nyc, new york, usa</td>\n",
       "      <td>NaN</td>\n",
       "      <td>usa</td>\n",
       "    </tr>\n",
       "    <tr>\n",
       "      <th>1</th>\n",
       "      <td>2</td>\n",
       "      <td>stockton, california, usa</td>\n",
       "      <td>18.0</td>\n",
       "      <td>usa</td>\n",
       "    </tr>\n",
       "    <tr>\n",
       "      <th>2</th>\n",
       "      <td>3</td>\n",
       "      <td>moscow, yukon territory, russia</td>\n",
       "      <td>NaN</td>\n",
       "      <td>russia</td>\n",
       "    </tr>\n",
       "    <tr>\n",
       "      <th>3</th>\n",
       "      <td>4</td>\n",
       "      <td>porto, v.n.gaia, portugal</td>\n",
       "      <td>17.0</td>\n",
       "      <td>portugal</td>\n",
       "    </tr>\n",
       "    <tr>\n",
       "      <th>4</th>\n",
       "      <td>5</td>\n",
       "      <td>farnborough, hants, united kingdom</td>\n",
       "      <td>NaN</td>\n",
       "      <td>united kingdom</td>\n",
       "    </tr>\n",
       "  </tbody>\n",
       "</table>\n",
       "</div>"
      ],
      "text/plain": [
       "   User-ID                            Location   Age          Country\n",
       "0        1                  nyc, new york, usa   NaN              usa\n",
       "1        2           stockton, california, usa  18.0              usa\n",
       "2        3     moscow, yukon territory, russia   NaN           russia\n",
       "3        4           porto, v.n.gaia, portugal  17.0         portugal\n",
       "4        5  farnborough, hants, united kingdom   NaN   united kingdom"
      ]
     },
     "execution_count": 56,
     "metadata": {},
     "output_type": "execute_result"
    }
   ],
   "source": [
    "User.head()"
   ]
  },
  {
   "cell_type": "code",
   "execution_count": 57,
   "id": "0aaacf4c",
   "metadata": {},
   "outputs": [
    {
     "data": {
      "text/html": [
       "<div>\n",
       "<style scoped>\n",
       "    .dataframe tbody tr th:only-of-type {\n",
       "        vertical-align: middle;\n",
       "    }\n",
       "\n",
       "    .dataframe tbody tr th {\n",
       "        vertical-align: top;\n",
       "    }\n",
       "\n",
       "    .dataframe thead th {\n",
       "        text-align: right;\n",
       "    }\n",
       "</style>\n",
       "<table border=\"1\" class=\"dataframe\">\n",
       "  <thead>\n",
       "    <tr style=\"text-align: right;\">\n",
       "      <th></th>\n",
       "      <th>User-ID</th>\n",
       "      <th>Age</th>\n",
       "      <th>Country</th>\n",
       "    </tr>\n",
       "  </thead>\n",
       "  <tbody>\n",
       "    <tr>\n",
       "      <th>0</th>\n",
       "      <td>1</td>\n",
       "      <td>NaN</td>\n",
       "      <td>usa</td>\n",
       "    </tr>\n",
       "    <tr>\n",
       "      <th>1</th>\n",
       "      <td>2</td>\n",
       "      <td>18.0</td>\n",
       "      <td>usa</td>\n",
       "    </tr>\n",
       "    <tr>\n",
       "      <th>2</th>\n",
       "      <td>3</td>\n",
       "      <td>NaN</td>\n",
       "      <td>russia</td>\n",
       "    </tr>\n",
       "    <tr>\n",
       "      <th>3</th>\n",
       "      <td>4</td>\n",
       "      <td>17.0</td>\n",
       "      <td>portugal</td>\n",
       "    </tr>\n",
       "    <tr>\n",
       "      <th>4</th>\n",
       "      <td>5</td>\n",
       "      <td>NaN</td>\n",
       "      <td>united kingdom</td>\n",
       "    </tr>\n",
       "  </tbody>\n",
       "</table>\n",
       "</div>"
      ],
      "text/plain": [
       "   User-ID   Age          Country\n",
       "0        1   NaN              usa\n",
       "1        2  18.0              usa\n",
       "2        3   NaN           russia\n",
       "3        4  17.0         portugal\n",
       "4        5   NaN   united kingdom"
      ]
     },
     "execution_count": 57,
     "metadata": {},
     "output_type": "execute_result"
    }
   ],
   "source": [
    "User.drop(columns =[\"Location\"], inplace = True)\n",
    "User.head()"
   ]
  },
  {
   "cell_type": "code",
   "execution_count": 58,
   "id": "0ce31d22",
   "metadata": {},
   "outputs": [
    {
     "data": {
      "text/plain": [
       "User-ID         0\n",
       "Age        112261\n",
       "Country         0\n",
       "dtype: int64"
      ]
     },
     "execution_count": 58,
     "metadata": {},
     "output_type": "execute_result"
    }
   ],
   "source": [
    "User.isnull().sum()"
   ]
  },
  {
   "cell_type": "code",
   "execution_count": 59,
   "id": "9d2e54b7",
   "metadata": {},
   "outputs": [
    {
     "data": {
      "text/plain": [
       "Text(0.5, 1.0, 'Count of User Country wise')"
      ]
     },
     "execution_count": 59,
     "metadata": {},
     "output_type": "execute_result"
    },
    {
     "data": {
      "image/png": "[encoded data removed]",
      "text/plain": [
       "<Figure size 1080x576 with 1 Axes>"
      ]
     },
     "metadata": {},
     "output_type": "display_data"
    }
   ],
   "source": [
    "plt.figure(figsize=(15,8))\n",
    "sns.countplot(y='Country',data=User,order=pd.value_counts(User['Country']).iloc[:10].index)\n",
    "plt.title('Count of User Country wise')"
   ]
  },
  {
   "cell_type": "code",
   "execution_count": 60,
   "id": "8b7869ef",
   "metadata": {},
   "outputs": [
    {
     "data": {
      "text/plain": [
       "User-ID    0\n",
       "Age        0\n",
       "Country    0\n",
       "dtype: int64"
      ]
     },
     "execution_count": 60,
     "metadata": {},
     "output_type": "execute_result"
    }
   ],
   "source": [
    "User['Age'].fillna(User.Age.mean(),inplace=True)\n",
    "User.isna().sum()"
   ]
  },
  {
   "cell_type": "code",
   "execution_count": 61,
   "id": "ff799947",
   "metadata": {},
   "outputs": [
    {
     "data": {
      "text/plain": [
       "User-ID    0\n",
       "Age        0\n",
       "Country    0\n",
       "dtype: int64"
      ]
     },
     "execution_count": 61,
     "metadata": {},
     "output_type": "execute_result"
    }
   ],
   "source": [
    "User.isnull().sum()"
   ]
  },
  {
   "cell_type": "code",
   "execution_count": 62,
   "id": "261e25ce",
   "metadata": {},
   "outputs": [
    {
     "data": {
      "image/png": "[encoded data removed]",
      "text/plain": [
       "<Figure size 1008x504 with 1 Axes>"
      ]
     },
     "metadata": {},
     "output_type": "display_data"
    }
   ],
   "source": [
    "User.Age.hist(bins=[0, 10, 20, 30, 40, 50, 100])\n",
    "plt.title('Age Distribution\\n')\n",
    "plt.xlabel('Age')\n",
    "plt.ylabel('Count')\n",
    "plt.show()"
   ]
  },
  {
   "cell_type": "markdown",
   "id": "af4d7df6",
   "metadata": {},
   "source": [
    "# Merge All Three Dataset"
   ]
  },
  {
   "cell_type": "code",
   "execution_count": 63,
   "id": "6b7a4413",
   "metadata": {},
   "outputs": [
    {
     "data": {
      "text/html": [
       "<div>\n",
       "<style scoped>\n",
       "    .dataframe tbody tr th:only-of-type {\n",
       "        vertical-align: middle;\n",
       "    }\n",
       "\n",
       "    .dataframe tbody tr th {\n",
       "        vertical-align: top;\n",
       "    }\n",
       "\n",
       "    .dataframe thead th {\n",
       "        text-align: right;\n",
       "    }\n",
       "</style>\n",
       "<table border=\"1\" class=\"dataframe\">\n",
       "  <thead>\n",
       "    <tr style=\"text-align: right;\">\n",
       "      <th></th>\n",
       "      <th>User-ID</th>\n",
       "      <th>Age</th>\n",
       "      <th>Country</th>\n",
       "      <th>ISBN</th>\n",
       "      <th>Book-Rating</th>\n",
       "      <th>Avg_Rating</th>\n",
       "      <th>Total_No_Of_Users_Rated</th>\n",
       "      <th>Book-Title</th>\n",
       "      <th>Book-Author</th>\n",
       "      <th>YearOfPublication</th>\n",
       "      <th>Publisher</th>\n",
       "    </tr>\n",
       "  </thead>\n",
       "  <tbody>\n",
       "    <tr>\n",
       "      <th>0</th>\n",
       "      <td>8</td>\n",
       "      <td>34.754311</td>\n",
       "      <td>canada</td>\n",
       "      <td>0002005018</td>\n",
       "      <td>5</td>\n",
       "      <td>7.666667</td>\n",
       "      <td>9</td>\n",
       "      <td>Clara Callan</td>\n",
       "      <td>Richard Bruce Wright</td>\n",
       "      <td>2001.0</td>\n",
       "      <td>HarperFlamingo Canada</td>\n",
       "    </tr>\n",
       "    <tr>\n",
       "      <th>1</th>\n",
       "      <td>11676</td>\n",
       "      <td>34.754311</td>\n",
       "      <td>n/a</td>\n",
       "      <td>0002005018</td>\n",
       "      <td>8</td>\n",
       "      <td>7.666667</td>\n",
       "      <td>9</td>\n",
       "      <td>Clara Callan</td>\n",
       "      <td>Richard Bruce Wright</td>\n",
       "      <td>2001.0</td>\n",
       "      <td>HarperFlamingo Canada</td>\n",
       "    </tr>\n",
       "    <tr>\n",
       "      <th>2</th>\n",
       "      <td>67544</td>\n",
       "      <td>30.000000</td>\n",
       "      <td>canada</td>\n",
       "      <td>0002005018</td>\n",
       "      <td>8</td>\n",
       "      <td>7.666667</td>\n",
       "      <td>9</td>\n",
       "      <td>Clara Callan</td>\n",
       "      <td>Richard Bruce Wright</td>\n",
       "      <td>2001.0</td>\n",
       "      <td>HarperFlamingo Canada</td>\n",
       "    </tr>\n",
       "    <tr>\n",
       "      <th>3</th>\n",
       "      <td>116866</td>\n",
       "      <td>34.754311</td>\n",
       "      <td></td>\n",
       "      <td>0002005018</td>\n",
       "      <td>9</td>\n",
       "      <td>7.666667</td>\n",
       "      <td>9</td>\n",
       "      <td>Clara Callan</td>\n",
       "      <td>Richard Bruce Wright</td>\n",
       "      <td>2001.0</td>\n",
       "      <td>HarperFlamingo Canada</td>\n",
       "    </tr>\n",
       "    <tr>\n",
       "      <th>4</th>\n",
       "      <td>123629</td>\n",
       "      <td>34.754311</td>\n",
       "      <td>canada</td>\n",
       "      <td>0002005018</td>\n",
       "      <td>9</td>\n",
       "      <td>7.666667</td>\n",
       "      <td>9</td>\n",
       "      <td>Clara Callan</td>\n",
       "      <td>Richard Bruce Wright</td>\n",
       "      <td>2001.0</td>\n",
       "      <td>HarperFlamingo Canada</td>\n",
       "    </tr>\n",
       "  </tbody>\n",
       "</table>\n",
       "</div>"
      ],
      "text/plain": [
       "   User-ID        Age  Country        ISBN  Book-Rating  Avg_Rating  \\\n",
       "0        8  34.754311   canada  0002005018            5    7.666667   \n",
       "1    11676  34.754311      n/a  0002005018            8    7.666667   \n",
       "2    67544  30.000000   canada  0002005018            8    7.666667   \n",
       "3   116866  34.754311           0002005018            9    7.666667   \n",
       "4   123629  34.754311   canada  0002005018            9    7.666667   \n",
       "\n",
       "   Total_No_Of_Users_Rated    Book-Title           Book-Author  \\\n",
       "0                        9  Clara Callan  Richard Bruce Wright   \n",
       "1                        9  Clara Callan  Richard Bruce Wright   \n",
       "2                        9  Clara Callan  Richard Bruce Wright   \n",
       "3                        9  Clara Callan  Richard Bruce Wright   \n",
       "4                        9  Clara Callan  Richard Bruce Wright   \n",
       "\n",
       "   YearOfPublication              Publisher  \n",
       "0             2001.0  HarperFlamingo Canada  \n",
       "1             2001.0  HarperFlamingo Canada  \n",
       "2             2001.0  HarperFlamingo Canada  \n",
       "3             2001.0  HarperFlamingo Canada  \n",
       "4             2001.0  HarperFlamingo Canada  "
      ]
     },
     "execution_count": 63,
     "metadata": {},
     "output_type": "execute_result"
    }
   ],
   "source": [
    "Dataset=User.copy()\n",
    "Dataset=pd.merge(Dataset,Rating_explicit,on='User-ID')\n",
    "Dataset=pd.merge(Dataset,Books,on='ISBN')\n",
    "Dataset.head()"
   ]
  },
  {
   "cell_type": "code",
   "execution_count": 64,
   "id": "17d1ae30",
   "metadata": {},
   "outputs": [],
   "source": [
    "Dataset.rename(columns = {'Book-Rating':'BookRating','Book-Author':'BookAuthor'}, inplace = True)"
   ]
  },
  {
   "cell_type": "code",
   "execution_count": 65,
   "id": "7d5c5187",
   "metadata": {},
   "outputs": [
    {
     "data": {
      "text/html": [
       "<div>\n",
       "<style scoped>\n",
       "    .dataframe tbody tr th:only-of-type {\n",
       "        vertical-align: middle;\n",
       "    }\n",
       "\n",
       "    .dataframe tbody tr th {\n",
       "        vertical-align: top;\n",
       "    }\n",
       "\n",
       "    .dataframe thead th {\n",
       "        text-align: right;\n",
       "    }\n",
       "</style>\n",
       "<table border=\"1\" class=\"dataframe\">\n",
       "  <thead>\n",
       "    <tr style=\"text-align: right;\">\n",
       "      <th></th>\n",
       "      <th>index</th>\n",
       "      <th>Missing Values</th>\n",
       "      <th>% of Total Values</th>\n",
       "      <th>Data_type</th>\n",
       "    </tr>\n",
       "  </thead>\n",
       "  <tbody>\n",
       "    <tr>\n",
       "      <th>0</th>\n",
       "      <td>User-ID</td>\n",
       "      <td>0</td>\n",
       "      <td>0.0</td>\n",
       "      <td>int64</td>\n",
       "    </tr>\n",
       "    <tr>\n",
       "      <th>1</th>\n",
       "      <td>Age</td>\n",
       "      <td>0</td>\n",
       "      <td>0.0</td>\n",
       "      <td>float64</td>\n",
       "    </tr>\n",
       "    <tr>\n",
       "      <th>2</th>\n",
       "      <td>Country</td>\n",
       "      <td>0</td>\n",
       "      <td>0.0</td>\n",
       "      <td>object</td>\n",
       "    </tr>\n",
       "    <tr>\n",
       "      <th>3</th>\n",
       "      <td>ISBN</td>\n",
       "      <td>0</td>\n",
       "      <td>0.0</td>\n",
       "      <td>object</td>\n",
       "    </tr>\n",
       "    <tr>\n",
       "      <th>4</th>\n",
       "      <td>BookRating</td>\n",
       "      <td>0</td>\n",
       "      <td>0.0</td>\n",
       "      <td>int64</td>\n",
       "    </tr>\n",
       "    <tr>\n",
       "      <th>5</th>\n",
       "      <td>Avg_Rating</td>\n",
       "      <td>0</td>\n",
       "      <td>0.0</td>\n",
       "      <td>float64</td>\n",
       "    </tr>\n",
       "    <tr>\n",
       "      <th>6</th>\n",
       "      <td>Total_No_Of_Users_Rated</td>\n",
       "      <td>0</td>\n",
       "      <td>0.0</td>\n",
       "      <td>int64</td>\n",
       "    </tr>\n",
       "    <tr>\n",
       "      <th>7</th>\n",
       "      <td>Book-Title</td>\n",
       "      <td>0</td>\n",
       "      <td>0.0</td>\n",
       "      <td>object</td>\n",
       "    </tr>\n",
       "    <tr>\n",
       "      <th>8</th>\n",
       "      <td>BookAuthor</td>\n",
       "      <td>0</td>\n",
       "      <td>0.0</td>\n",
       "      <td>object</td>\n",
       "    </tr>\n",
       "    <tr>\n",
       "      <th>9</th>\n",
       "      <td>YearOfPublication</td>\n",
       "      <td>0</td>\n",
       "      <td>0.0</td>\n",
       "      <td>float64</td>\n",
       "    </tr>\n",
       "    <tr>\n",
       "      <th>10</th>\n",
       "      <td>Publisher</td>\n",
       "      <td>0</td>\n",
       "      <td>0.0</td>\n",
       "      <td>object</td>\n",
       "    </tr>\n",
       "  </tbody>\n",
       "</table>\n",
       "</div>"
      ],
      "text/plain": [
       "                      index  Missing Values  % of Total Values Data_type\n",
       "0                   User-ID               0                0.0     int64\n",
       "1                       Age               0                0.0   float64\n",
       "2                   Country               0                0.0    object\n",
       "3                      ISBN               0                0.0    object\n",
       "4                BookRating               0                0.0     int64\n",
       "5                Avg_Rating               0                0.0   float64\n",
       "6   Total_No_Of_Users_Rated               0                0.0     int64\n",
       "7                Book-Title               0                0.0    object\n",
       "8                BookAuthor               0                0.0    object\n",
       "9         YearOfPublication               0                0.0   float64\n",
       "10                Publisher               0                0.0    object"
      ]
     },
     "execution_count": 65,
     "metadata": {},
     "output_type": "execute_result"
    }
   ],
   "source": [
    "missing_values(Dataset)"
   ]
  },
  {
   "cell_type": "markdown",
   "id": "547411ba",
   "metadata": {},
   "source": [
    "# Weighted Rating"
   ]
  },
  {
   "cell_type": "markdown",
   "id": "60cb8d52",
   "metadata": {},
   "source": [
    "(WR)=[vR/(v+m)]+[mC/(v+m)]\n",
    "\n",
    "where,\n",
    "\n",
    "v is the number of votes for the books;\n",
    "\n",
    "m is the minimum votes required to be listed in the chart;\n",
    "\n",
    "R is the average rating of the book; and\n",
    "\n",
    "C is the mean vote across the whole report.\n",
    "\n",
    "Now we find the values of v,m,R,C.\n",
    "\n",
    "User.drop_duplicates(keep='last', inp"
   ]
  },
  {
   "cell_type": "code",
   "execution_count": 66,
   "id": "cc5ef497",
   "metadata": {},
   "outputs": [],
   "source": [
    "User.drop_duplicates(keep='last', inplace=True)\n",
    "User.reset_index(drop=True, inplace=True)"
   ]
  },
  {
   "cell_type": "code",
   "execution_count": 67,
   "id": "89943618",
   "metadata": {},
   "outputs": [
    {
     "name": "stdout",
     "output_type": "stream",
     "text": [
      "C=7.626700569504765 , m=64.0\n"
     ]
    },
    {
     "data": {
      "text/plain": [
       "(38570, 11)"
      ]
     },
     "execution_count": 67,
     "metadata": {},
     "output_type": "execute_result"
    }
   ],
   "source": [
    "C= Dataset['Avg_Rating'].mean()\n",
    "m= Dataset['Total_No_Of_Users_Rated'].quantile(0.90)\n",
    "Top_Books = Dataset.loc[Dataset['Total_No_Of_Users_Rated'] >= m]\n",
    "print(f'C={C} , m={m}')\n",
    "Top_Books.shape"
   ]
  },
  {
   "cell_type": "markdown",
   "id": "09c40644",
   "metadata": {},
   "source": [
    "Here we used 90th percentile as our cutoff. In other words, for a book to feature in the charts, it must have more votes than at least 90% of the books in the list."
   ]
  },
  {
   "cell_type": "code",
   "execution_count": 68,
   "id": "9a69726f",
   "metadata": {},
   "outputs": [],
   "source": [
    "def weighted_rating(x, m=m, C=C):\n",
    "    v = x['Total_No_Of_Users_Rated']\n",
    "    R = x['Avg_Rating']\n",
    "    return (v/(v+m) * R) + (m/(m+v) * C)\n",
    "    \n",
    " \n",
    "Top_Books['Score'] = Top_Books.apply(weighted_rating,axis=1)\n",
    " \n",
    " \n",
    "#Sorting books based on score calculated above\n",
    "Top_Books = Top_Books.sort_values('Score', ascending=False)"
   ]
  },
  {
   "cell_type": "code",
   "execution_count": 69,
   "id": "1ea15e9d",
   "metadata": {},
   "outputs": [
    {
     "data": {
      "text/html": [
       "<style type=\"text/css\">\n",
       "#T_ea5cd_row0_col1 {\n",
       "  background-color: #f6f69f;\n",
       "  color: #000000;\n",
       "}\n",
       "#T_ea5cd_row0_col2 {\n",
       "  background-color: #fdfd27;\n",
       "  color: #000000;\n",
       "}\n",
       "#T_ea5cd_row0_col3, #T_ea5cd_row1_col1, #T_ea5cd_row5_col2 {\n",
       "  background-color: #ffff00;\n",
       "  color: #000000;\n",
       "}\n",
       "#T_ea5cd_row1_col2 {\n",
       "  background-color: #f7f781;\n",
       "  color: #000000;\n",
       "}\n",
       "#T_ea5cd_row1_col3 {\n",
       "  background-color: #fefe0e;\n",
       "  color: #000000;\n",
       "}\n",
       "#T_ea5cd_row2_col1 {\n",
       "  background-color: #f9f960;\n",
       "  color: #000000;\n",
       "}\n",
       "#T_ea5cd_row2_col2, #T_ea5cd_row6_col2, #T_ea5cd_row15_col1 {\n",
       "  background-color: #f9f966;\n",
       "  color: #000000;\n",
       "}\n",
       "#T_ea5cd_row2_col3 {\n",
       "  background-color: #fefe17;\n",
       "  color: #000000;\n",
       "}\n",
       "#T_ea5cd_row3_col1, #T_ea5cd_row4_col2 {\n",
       "  background-color: #fafa59;\n",
       "  color: #000000;\n",
       "}\n",
       "#T_ea5cd_row3_col2 {\n",
       "  background-color: #f8f880;\n",
       "  color: #000000;\n",
       "}\n",
       "#T_ea5cd_row3_col3 {\n",
       "  background-color: #fcfc38;\n",
       "  color: #000000;\n",
       "}\n",
       "#T_ea5cd_row4_col1 {\n",
       "  background-color: #f5f5a3;\n",
       "  color: #000000;\n",
       "}\n",
       "#T_ea5cd_row4_col3 {\n",
       "  background-color: #fbfb4a;\n",
       "  color: #000000;\n",
       "}\n",
       "#T_ea5cd_row5_col1 {\n",
       "  background-color: #f2f2d5;\n",
       "  color: #000000;\n",
       "}\n",
       "#T_ea5cd_row5_col3, #T_ea5cd_row6_col3 {\n",
       "  background-color: #fafa52;\n",
       "  color: #000000;\n",
       "}\n",
       "#T_ea5cd_row6_col1 {\n",
       "  background-color: #f6f69b;\n",
       "  color: #000000;\n",
       "}\n",
       "#T_ea5cd_row7_col1 {\n",
       "  background-color: #f5f5af;\n",
       "  color: #000000;\n",
       "}\n",
       "#T_ea5cd_row7_col2 {\n",
       "  background-color: #f8f875;\n",
       "  color: #000000;\n",
       "}\n",
       "#T_ea5cd_row7_col3 {\n",
       "  background-color: #f7f783;\n",
       "  color: #000000;\n",
       "}\n",
       "#T_ea5cd_row8_col1 {\n",
       "  background-color: #f8f870;\n",
       "  color: #000000;\n",
       "}\n",
       "#T_ea5cd_row8_col2 {\n",
       "  background-color: #f5f5ad;\n",
       "  color: #000000;\n",
       "}\n",
       "#T_ea5cd_row8_col3 {\n",
       "  background-color: #f7f78d;\n",
       "  color: #000000;\n",
       "}\n",
       "#T_ea5cd_row9_col1 {\n",
       "  background-color: #f5f5a9;\n",
       "  color: #000000;\n",
       "}\n",
       "#T_ea5cd_row9_col2, #T_ea5cd_row19_col1 {\n",
       "  background-color: #f7f786;\n",
       "  color: #000000;\n",
       "}\n",
       "#T_ea5cd_row9_col3 {\n",
       "  background-color: #f7f790;\n",
       "  color: #000000;\n",
       "}\n",
       "#T_ea5cd_row10_col1 {\n",
       "  background-color: #f3f3d0;\n",
       "  color: #000000;\n",
       "}\n",
       "#T_ea5cd_row10_col2 {\n",
       "  background-color: #fafa4e;\n",
       "  color: #000000;\n",
       "}\n",
       "#T_ea5cd_row10_col3 {\n",
       "  background-color: #f6f699;\n",
       "  color: #000000;\n",
       "}\n",
       "#T_ea5cd_row11_col1 {\n",
       "  background-color: #f4f4b8;\n",
       "  color: #000000;\n",
       "}\n",
       "#T_ea5cd_row11_col2 {\n",
       "  background-color: #f8f87d;\n",
       "  color: #000000;\n",
       "}\n",
       "#T_ea5cd_row11_col3 {\n",
       "  background-color: #f6f69a;\n",
       "  color: #000000;\n",
       "}\n",
       "#T_ea5cd_row12_col1 {\n",
       "  background-color: #f5f5a5;\n",
       "  color: #000000;\n",
       "}\n",
       "#T_ea5cd_row12_col2, #T_ea5cd_row14_col2 {\n",
       "  background-color: #f6f69d;\n",
       "  color: #000000;\n",
       "}\n",
       "#T_ea5cd_row12_col3 {\n",
       "  background-color: #f5f5a8;\n",
       "  color: #000000;\n",
       "}\n",
       "#T_ea5cd_row13_col1 {\n",
       "  background-color: #f7f789;\n",
       "  color: #000000;\n",
       "}\n",
       "#T_ea5cd_row13_col2 {\n",
       "  background-color: #f4f4b9;\n",
       "  color: #000000;\n",
       "}\n",
       "#T_ea5cd_row13_col3 {\n",
       "  background-color: #f5f5b3;\n",
       "  color: #000000;\n",
       "}\n",
       "#T_ea5cd_row14_col1 {\n",
       "  background-color: #f5f5b1;\n",
       "  color: #000000;\n",
       "}\n",
       "#T_ea5cd_row14_col3 {\n",
       "  background-color: #f4f4bb;\n",
       "  color: #000000;\n",
       "}\n",
       "#T_ea5cd_row15_col2, #T_ea5cd_row18_col3 {\n",
       "  background-color: #f2f2dc;\n",
       "  color: #000000;\n",
       "}\n",
       "#T_ea5cd_row15_col3 {\n",
       "  background-color: #f3f3ce;\n",
       "  color: #000000;\n",
       "}\n",
       "#T_ea5cd_row16_col1, #T_ea5cd_row18_col2, #T_ea5cd_row19_col3 {\n",
       "  background-color: #f2f2dd;\n",
       "  color: #000000;\n",
       "}\n",
       "#T_ea5cd_row16_col2 {\n",
       "  background-color: #fafa5b;\n",
       "  color: #000000;\n",
       "}\n",
       "#T_ea5cd_row16_col3 {\n",
       "  background-color: #f3f3cf;\n",
       "  color: #000000;\n",
       "}\n",
       "#T_ea5cd_row17_col1 {\n",
       "  background-color: #f2f2d7;\n",
       "  color: #000000;\n",
       "}\n",
       "#T_ea5cd_row17_col2 {\n",
       "  background-color: #f8f878;\n",
       "  color: #000000;\n",
       "}\n",
       "#T_ea5cd_row17_col3 {\n",
       "  background-color: #f2f2da;\n",
       "  color: #000000;\n",
       "}\n",
       "#T_ea5cd_row18_col1 {\n",
       "  background-color: #f8f877;\n",
       "  color: #000000;\n",
       "}\n",
       "#T_ea5cd_row19_col2 {\n",
       "  background-color: #f2f2d8;\n",
       "  color: #000000;\n",
       "}\n",
       "</style>\n",
       "<table id=\"T_ea5cd\">\n",
       "  <thead>\n",
       "    <tr>\n",
       "      <th class=\"blank level0\" >&nbsp;</th>\n",
       "      <th id=\"T_ea5cd_level0_col0\" class=\"col_heading level0 col0\" >Book-Title</th>\n",
       "      <th id=\"T_ea5cd_level0_col1\" class=\"col_heading level0 col1\" >Total_No_Of_Users_Rated</th>\n",
       "      <th id=\"T_ea5cd_level0_col2\" class=\"col_heading level0 col2\" >Avg_Rating</th>\n",
       "      <th id=\"T_ea5cd_level0_col3\" class=\"col_heading level0 col3\" >Score</th>\n",
       "    </tr>\n",
       "  </thead>\n",
       "  <tbody>\n",
       "    <tr>\n",
       "      <th id=\"T_ea5cd_level0_row0\" class=\"row_heading level0 row0\" >0</th>\n",
       "      <td id=\"T_ea5cd_row0_col0\" class=\"data row0 col0\" >Harry Potter and the Goblet of Fire (Book 4)</td>\n",
       "      <td id=\"T_ea5cd_row0_col1\" class=\"data row0 col1\" >137</td>\n",
       "      <td id=\"T_ea5cd_row0_col2\" class=\"data row0 col2\" >9.262774</td>\n",
       "      <td id=\"T_ea5cd_row0_col3\" class=\"data row0 col3\" >8.741835</td>\n",
       "    </tr>\n",
       "    <tr>\n",
       "      <th id=\"T_ea5cd_level0_row1\" class=\"row_heading level0 row1\" >1</th>\n",
       "      <td id=\"T_ea5cd_row1_col0\" class=\"data row1 col0\" >Harry Potter and the Sorcerer's Stone (Harry Potter (Paperback))</td>\n",
       "      <td id=\"T_ea5cd_row1_col1\" class=\"data row1 col1\" >313</td>\n",
       "      <td id=\"T_ea5cd_row1_col2\" class=\"data row1 col2\" >8.939297</td>\n",
       "      <td id=\"T_ea5cd_row1_col3\" class=\"data row1 col3\" >8.716469</td>\n",
       "    </tr>\n",
       "    <tr>\n",
       "      <th id=\"T_ea5cd_level0_row2\" class=\"row_heading level0 row2\" >2</th>\n",
       "      <td id=\"T_ea5cd_row2_col0\" class=\"data row2 col0\" >Harry Potter and the Order of the Phoenix (Book 5)</td>\n",
       "      <td id=\"T_ea5cd_row2_col1\" class=\"data row2 col1\" >206</td>\n",
       "      <td id=\"T_ea5cd_row2_col2\" class=\"data row2 col2\" >9.033981</td>\n",
       "      <td id=\"T_ea5cd_row2_col3\" class=\"data row2 col3\" >8.700403</td>\n",
       "    </tr>\n",
       "    <tr>\n",
       "      <th id=\"T_ea5cd_level0_row3\" class=\"row_heading level0 row3\" >3</th>\n",
       "      <td id=\"T_ea5cd_row3_col0\" class=\"data row3 col0\" >To Kill a Mockingbird</td>\n",
       "      <td id=\"T_ea5cd_row3_col1\" class=\"data row3 col1\" >214</td>\n",
       "      <td id=\"T_ea5cd_row3_col2\" class=\"data row3 col2\" >8.943925</td>\n",
       "      <td id=\"T_ea5cd_row3_col3\" class=\"data row3 col3\" >8.640679</td>\n",
       "    </tr>\n",
       "    <tr>\n",
       "      <th id=\"T_ea5cd_level0_row4\" class=\"row_heading level0 row4\" >4</th>\n",
       "      <td id=\"T_ea5cd_row4_col0\" class=\"data row4 col0\" >Harry Potter and the Prisoner of Azkaban (Book 3)</td>\n",
       "      <td id=\"T_ea5cd_row4_col1\" class=\"data row4 col1\" >133</td>\n",
       "      <td id=\"T_ea5cd_row4_col2\" class=\"data row4 col2\" >9.082707</td>\n",
       "      <td id=\"T_ea5cd_row4_col3\" class=\"data row4 col3\" >8.609690</td>\n",
       "    </tr>\n",
       "    <tr>\n",
       "      <th id=\"T_ea5cd_level0_row5\" class=\"row_heading level0 row5\" >5</th>\n",
       "      <td id=\"T_ea5cd_row5_col0\" class=\"data row5 col0\" >The Return of the King (The Lord of the Rings, Part 3)</td>\n",
       "      <td id=\"T_ea5cd_row5_col1\" class=\"data row5 col1\" >77</td>\n",
       "      <td id=\"T_ea5cd_row5_col2\" class=\"data row5 col2\" >9.402597</td>\n",
       "      <td id=\"T_ea5cd_row5_col3\" class=\"data row5 col3\" >8.596517</td>\n",
       "    </tr>\n",
       "    <tr>\n",
       "      <th id=\"T_ea5cd_level0_row6\" class=\"row_heading level0 row6\" >6</th>\n",
       "      <td id=\"T_ea5cd_row6_col0\" class=\"data row6 col0\" >Harry Potter and the Prisoner of Azkaban (Book 3)</td>\n",
       "      <td id=\"T_ea5cd_row6_col1\" class=\"data row6 col1\" >141</td>\n",
       "      <td id=\"T_ea5cd_row6_col2\" class=\"data row6 col2\" >9.035461</td>\n",
       "      <td id=\"T_ea5cd_row6_col3\" class=\"data row6 col3\" >8.595653</td>\n",
       "    </tr>\n",
       "    <tr>\n",
       "      <th id=\"T_ea5cd_level0_row7\" class=\"row_heading level0 row7\" >7</th>\n",
       "      <td id=\"T_ea5cd_row7_col0\" class=\"data row7 col0\" >Harry Potter and the Sorcerer's Stone (Book 1)</td>\n",
       "      <td id=\"T_ea5cd_row7_col1\" class=\"data row7 col1\" >119</td>\n",
       "      <td id=\"T_ea5cd_row7_col2\" class=\"data row7 col2\" >8.983193</td>\n",
       "      <td id=\"T_ea5cd_row7_col3\" class=\"data row7 col3\" >8.508791</td>\n",
       "    </tr>\n",
       "    <tr>\n",
       "      <th id=\"T_ea5cd_level0_row8\" class=\"row_heading level0 row8\" >8</th>\n",
       "      <td id=\"T_ea5cd_row8_col0\" class=\"data row8 col0\" >Harry Potter and the Chamber of Secrets (Book 2)</td>\n",
       "      <td id=\"T_ea5cd_row8_col1\" class=\"data row8 col1\" >189</td>\n",
       "      <td id=\"T_ea5cd_row8_col2\" class=\"data row8 col2\" >8.783069</td>\n",
       "      <td id=\"T_ea5cd_row8_col3\" class=\"data row8 col3\" >8.490549</td>\n",
       "    </tr>\n",
       "    <tr>\n",
       "      <th id=\"T_ea5cd_level0_row9\" class=\"row_heading level0 row9\" >9</th>\n",
       "      <td id=\"T_ea5cd_row9_col0\" class=\"data row9 col0\" >Harry Potter and the Chamber of Secrets (Book 2)</td>\n",
       "      <td id=\"T_ea5cd_row9_col1\" class=\"data row9 col1\" >126</td>\n",
       "      <td id=\"T_ea5cd_row9_col2\" class=\"data row9 col2\" >8.920635</td>\n",
       "      <td id=\"T_ea5cd_row9_col3\" class=\"data row9 col3\" >8.484783</td>\n",
       "    </tr>\n",
       "    <tr>\n",
       "      <th id=\"T_ea5cd_level0_row10\" class=\"row_heading level0 row10\" >10</th>\n",
       "      <td id=\"T_ea5cd_row10_col0\" class=\"data row10 col0\" >The Two Towers (The Lord of the Rings, Part 2)</td>\n",
       "      <td id=\"T_ea5cd_row10_col1\" class=\"data row10 col1\" >83</td>\n",
       "      <td id=\"T_ea5cd_row10_col2\" class=\"data row10 col2\" >9.120482</td>\n",
       "      <td id=\"T_ea5cd_row10_col3\" class=\"data row10 col3\" >8.470128</td>\n",
       "    </tr>\n",
       "    <tr>\n",
       "      <th id=\"T_ea5cd_level0_row11\" class=\"row_heading level0 row11\" >11</th>\n",
       "      <td id=\"T_ea5cd_row11_col0\" class=\"data row11 col0\" >Harry Potter and the Goblet of Fire (Book 4)</td>\n",
       "      <td id=\"T_ea5cd_row11_col1\" class=\"data row11 col1\" >110</td>\n",
       "      <td id=\"T_ea5cd_row11_col2\" class=\"data row11 col2\" >8.954545</td>\n",
       "      <td id=\"T_ea5cd_row11_col3\" class=\"data row11 col3\" >8.466143</td>\n",
       "    </tr>\n",
       "    <tr>\n",
       "      <th id=\"T_ea5cd_level0_row12\" class=\"row_heading level0 row12\" >12</th>\n",
       "      <td id=\"T_ea5cd_row12_col0\" class=\"data row12 col0\" >The Fellowship of the Ring (The Lord of the Rings, Part 1)</td>\n",
       "      <td id=\"T_ea5cd_row12_col1\" class=\"data row12 col1\" >131</td>\n",
       "      <td id=\"T_ea5cd_row12_col2\" class=\"data row12 col2\" >8.839695</td>\n",
       "      <td id=\"T_ea5cd_row12_col3\" class=\"data row12 col3\" >8.441584</td>\n",
       "    </tr>\n",
       "    <tr>\n",
       "      <th id=\"T_ea5cd_level0_row13\" class=\"row_heading level0 row13\" >13</th>\n",
       "      <td id=\"T_ea5cd_row13_col0\" class=\"data row13 col0\" >The Hobbit : The Enchanting Prelude to The Lord of the Rings</td>\n",
       "      <td id=\"T_ea5cd_row13_col1\" class=\"data row13 col1\" >161</td>\n",
       "      <td id=\"T_ea5cd_row13_col2\" class=\"data row13 col2\" >8.739130</td>\n",
       "      <td id=\"T_ea5cd_row13_col3\" class=\"data row13 col3\" >8.422706</td>\n",
       "    </tr>\n",
       "    <tr>\n",
       "      <th id=\"T_ea5cd_level0_row14\" class=\"row_heading level0 row14\" >14</th>\n",
       "      <td id=\"T_ea5cd_row14_col0\" class=\"data row14 col0\" >Ender's Game (Ender Wiggins Saga (Paperback))</td>\n",
       "      <td id=\"T_ea5cd_row14_col1\" class=\"data row14 col1\" >117</td>\n",
       "      <td id=\"T_ea5cd_row14_col2\" class=\"data row14 col2\" >8.837607</td>\n",
       "      <td id=\"T_ea5cd_row14_col3\" class=\"data row14 col3\" >8.409441</td>\n",
       "    </tr>\n",
       "    <tr>\n",
       "      <th id=\"T_ea5cd_level0_row15\" class=\"row_heading level0 row15\" >15</th>\n",
       "      <td id=\"T_ea5cd_row15_col0\" class=\"data row15 col0\" >Tuesdays with Morrie: An Old Man, a Young Man, and Life's Greatest Lesson</td>\n",
       "      <td id=\"T_ea5cd_row15_col1\" class=\"data row15 col1\" >200</td>\n",
       "      <td id=\"T_ea5cd_row15_col2\" class=\"data row15 col2\" >8.615000</td>\n",
       "      <td id=\"T_ea5cd_row15_col3\" class=\"data row15 col3\" >8.375412</td>\n",
       "    </tr>\n",
       "    <tr>\n",
       "      <th id=\"T_ea5cd_level0_row16\" class=\"row_heading level0 row16\" >16</th>\n",
       "      <td id=\"T_ea5cd_row16_col0\" class=\"data row16 col0\" >Charlotte's Web (Trophy Newbery)</td>\n",
       "      <td id=\"T_ea5cd_row16_col1\" class=\"data row16 col1\" >68</td>\n",
       "      <td id=\"T_ea5cd_row16_col2\" class=\"data row16 col2\" >9.073529</td>\n",
       "      <td id=\"T_ea5cd_row16_col3\" class=\"data row16 col3\" >8.372037</td>\n",
       "    </tr>\n",
       "    <tr>\n",
       "      <th id=\"T_ea5cd_level0_row17\" class=\"row_heading level0 row17\" >17</th>\n",
       "      <td id=\"T_ea5cd_row17_col0\" class=\"data row17 col0\" >Dune (Remembering Tomorrow)</td>\n",
       "      <td id=\"T_ea5cd_row17_col1\" class=\"data row17 col1\" >75</td>\n",
       "      <td id=\"T_ea5cd_row17_col2\" class=\"data row17 col2\" >8.973333</td>\n",
       "      <td id=\"T_ea5cd_row17_col3\" class=\"data row17 col3\" >8.353301</td>\n",
       "    </tr>\n",
       "    <tr>\n",
       "      <th id=\"T_ea5cd_level0_row18\" class=\"row_heading level0 row18\" >18</th>\n",
       "      <td id=\"T_ea5cd_row18_col0\" class=\"data row18 col0\" >A Prayer for Owen Meany</td>\n",
       "      <td id=\"T_ea5cd_row18_col1\" class=\"data row18 col1\" >181</td>\n",
       "      <td id=\"T_ea5cd_row18_col2\" class=\"data row18 col2\" >8.607735</td>\n",
       "      <td id=\"T_ea5cd_row18_col3\" class=\"data row18 col3\" >8.351465</td>\n",
       "    </tr>\n",
       "    <tr>\n",
       "      <th id=\"T_ea5cd_level0_row19\" class=\"row_heading level0 row19\" >19</th>\n",
       "      <td id=\"T_ea5cd_row19_col0\" class=\"data row19 col0\" >Fahrenheit 451</td>\n",
       "      <td id=\"T_ea5cd_row19_col1\" class=\"data row19 col1\" >164</td>\n",
       "      <td id=\"T_ea5cd_row19_col2\" class=\"data row19 col2\" >8.628049</td>\n",
       "      <td id=\"T_ea5cd_row19_col3\" class=\"data row19 col3\" >8.346969</td>\n",
       "    </tr>\n",
       "  </tbody>\n",
       "</table>\n"
      ],
      "text/plain": [
       "<pandas.io.formats.style.Styler at 0x1d33c1f1280>"
      ]
     },
     "execution_count": 69,
     "metadata": {},
     "output_type": "execute_result"
    }
   ],
   "source": [
    "#Keeping only one entry of each book\n",
    "Top_Books=Top_Books.sort_values('Score', ascending=False).drop_duplicates('ISBN').sort_index()\n",
    "cm=sns.light_palette('yellow',as_cmap=True)\n",
    "#Sorting books based on score calculated above\n",
    "Top_Books = Top_Books.sort_values('Score', ascending=False)\n",
    "\n",
    "#Printing the top 20 books\n",
    "Top_Books[['Book-Title', 'Total_No_Of_Users_Rated', 'Avg_Rating', 'Score']].reset_index(drop=True).head(20).style.background_gradient(cmap=cm)"
   ]
  }
 ],
 "metadata": {
  "kernelspec": {
   "display_name": "Python 3 (ipykernel)",
   "language": "python",
   "name": "python3"
  },
  "language_info": {
   "codemirror_mode": {
    "name": "ipython",
    "version": 3
   },
   "file_extension": ".py",
   "mimetype": "text/x-python",
   "name": "python",
   "nbconvert_exporter": "python",
   "pygments_lexer": "ipython3",
   "version": "3.9.12"
  }
 },
 "nbformat": 4,
 "nbformat_minor": 5
}
